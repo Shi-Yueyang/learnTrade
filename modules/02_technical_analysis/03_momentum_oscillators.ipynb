{
 "cells": [
  {
   "cell_type": "markdown",
   "id": "508a6c35",
   "metadata": {},
   "source": [
    "# Module 2.3: Momentum and Oscillators\n",
    "\n",
    "**Topics:** RSI, Stochastic, Williams %R, CCI\n",
    "**Key concepts:** Overbought/oversold conditions, divergences\n",
    "\n",
    "This notebook delves into momentum indicators and oscillators, which are crucial for assessing the velocity of price movements and identifying potential trend reversals."
   ]
  },
  {
   "cell_type": "markdown",
   "id": "397f0e0a",
   "metadata": {},
   "source": [
    "## 1. Introduction to Momentum and Oscillators\n",
    "\n",
    "Momentum indicators measure the rate of change in security prices. Oscillators are a type of momentum indicator that fluctuate above and below a centerline or between set levels as their values change over time. They are often used to identify overbought or oversold conditions, spot divergences, and generate buy/sell signals."
   ]
  },
  {
   "cell_type": "code",
   "execution_count": 13,
   "id": "2f51f50a",
   "metadata": {},
   "outputs": [],
   "source": [
    "# Import necessary libraries\n",
    "import pandas as pd\n",
    "import numpy as np\n",
    "import yfinance as yf\n",
    "import plotly.graph_objects as go\n",
    "import requests\n",
    "import os\n",
    "from plotly.subplots import make_subplots\n",
    "from datetime import datetime\n"
   ]
  },
  {
   "cell_type": "markdown",
   "id": "6f5cb1fb",
   "metadata": {},
   "source": [
    "## 2. Fetching Data\n",
    "\n",
    "Let's fetch some historical stock data to work with. We'll use `yfinance` to get data for a sample stock."
   ]
  },
  {
   "cell_type": "code",
   "execution_count": 27,
   "id": "1d6a713b",
   "metadata": {},
   "outputs": [
    {
     "name": "stdout",
     "output_type": "stream",
     "text": [
      "Downloaded 132 days of data for AAPL\n",
      "Date range: 2025-01-02 to 2025-07-15\n",
      "\n",
      "First 5 rows:\n"
     ]
    },
    {
     "data": {
      "text/html": [
       "<div>\n",
       "<style scoped>\n",
       "    .dataframe tbody tr th:only-of-type {\n",
       "        vertical-align: middle;\n",
       "    }\n",
       "\n",
       "    .dataframe tbody tr th {\n",
       "        vertical-align: top;\n",
       "    }\n",
       "\n",
       "    .dataframe thead th {\n",
       "        text-align: right;\n",
       "    }\n",
       "</style>\n",
       "<table border=\"1\" class=\"dataframe\">\n",
       "  <thead>\n",
       "    <tr style=\"text-align: right;\">\n",
       "      <th></th>\n",
       "      <th>Open</th>\n",
       "      <th>High</th>\n",
       "      <th>Low</th>\n",
       "      <th>Close</th>\n",
       "      <th>Volume</th>\n",
       "      <th>Dividends</th>\n",
       "      <th>Stock Splits</th>\n",
       "    </tr>\n",
       "    <tr>\n",
       "      <th>Date</th>\n",
       "      <th></th>\n",
       "      <th></th>\n",
       "      <th></th>\n",
       "      <th></th>\n",
       "      <th></th>\n",
       "      <th></th>\n",
       "      <th></th>\n",
       "    </tr>\n",
       "  </thead>\n",
       "  <tbody>\n",
       "    <tr>\n",
       "      <th>2025-01-02 00:00:00-05:00</th>\n",
       "      <td>248.33</td>\n",
       "      <td>248.50</td>\n",
       "      <td>241.24</td>\n",
       "      <td>243.26</td>\n",
       "      <td>55740700</td>\n",
       "      <td>0.0</td>\n",
       "      <td>0.0</td>\n",
       "    </tr>\n",
       "    <tr>\n",
       "      <th>2025-01-03 00:00:00-05:00</th>\n",
       "      <td>242.77</td>\n",
       "      <td>243.59</td>\n",
       "      <td>241.31</td>\n",
       "      <td>242.77</td>\n",
       "      <td>40244100</td>\n",
       "      <td>0.0</td>\n",
       "      <td>0.0</td>\n",
       "    </tr>\n",
       "    <tr>\n",
       "      <th>2025-01-06 00:00:00-05:00</th>\n",
       "      <td>243.72</td>\n",
       "      <td>246.73</td>\n",
       "      <td>242.61</td>\n",
       "      <td>244.41</td>\n",
       "      <td>45045600</td>\n",
       "      <td>0.0</td>\n",
       "      <td>0.0</td>\n",
       "    </tr>\n",
       "    <tr>\n",
       "      <th>2025-01-07 00:00:00-05:00</th>\n",
       "      <td>242.40</td>\n",
       "      <td>244.96</td>\n",
       "      <td>240.77</td>\n",
       "      <td>241.63</td>\n",
       "      <td>40856000</td>\n",
       "      <td>0.0</td>\n",
       "      <td>0.0</td>\n",
       "    </tr>\n",
       "    <tr>\n",
       "      <th>2025-01-08 00:00:00-05:00</th>\n",
       "      <td>241.34</td>\n",
       "      <td>243.12</td>\n",
       "      <td>239.47</td>\n",
       "      <td>242.12</td>\n",
       "      <td>37628900</td>\n",
       "      <td>0.0</td>\n",
       "      <td>0.0</td>\n",
       "    </tr>\n",
       "  </tbody>\n",
       "</table>\n",
       "</div>"
      ],
      "text/plain": [
       "                             Open    High     Low   Close    Volume  \\\n",
       "Date                                                                  \n",
       "2025-01-02 00:00:00-05:00  248.33  248.50  241.24  243.26  55740700   \n",
       "2025-01-03 00:00:00-05:00  242.77  243.59  241.31  242.77  40244100   \n",
       "2025-01-06 00:00:00-05:00  243.72  246.73  242.61  244.41  45045600   \n",
       "2025-01-07 00:00:00-05:00  242.40  244.96  240.77  241.63  40856000   \n",
       "2025-01-08 00:00:00-05:00  241.34  243.12  239.47  242.12  37628900   \n",
       "\n",
       "                           Dividends  Stock Splits  \n",
       "Date                                                \n",
       "2025-01-02 00:00:00-05:00        0.0           0.0  \n",
       "2025-01-03 00:00:00-05:00        0.0           0.0  \n",
       "2025-01-06 00:00:00-05:00        0.0           0.0  \n",
       "2025-01-07 00:00:00-05:00        0.0           0.0  \n",
       "2025-01-08 00:00:00-05:00        0.0           0.0  "
      ]
     },
     "execution_count": 27,
     "metadata": {},
     "output_type": "execute_result"
    }
   ],
   "source": [
    "symbol = 'AAPL'\n",
    "start_date = '2025-01-01'\n",
    "end_date = datetime.now().strftime(\"%Y-%m-%d\")\n",
    "session = requests.Session()\n",
    "proxy_host = \"localhost\"\n",
    "proxy_port = 10809\n",
    "proxy_url = f\"http://{proxy_host}:{proxy_port}\"\n",
    "session.proxies.update(\n",
    "    {\n",
    "        \"http\": proxy_url,\n",
    "        \"https\": proxy_url,\n",
    "    }\n",
    ")\n",
    "os.environ['HTTP_PROXY'] = proxy_url\n",
    "os.environ['HTTPS_PROXY'] = proxy_url\n",
    "ticker = yf.Ticker(symbol)\n",
    "ticker.session = session\n",
    "# Download data\n",
    "data = ticker.history(start=start_date, end=end_date, interval='1d')\n",
    "data = data.round(2)\n",
    "\n",
    "print(f\"Downloaded {len(data)} days of data for {symbol}\")\n",
    "print(f\"Date range: {data.index[0].date()} to {data.index[-1].date()}\")\n",
    "print(\"\\nFirst 5 rows:\")\n",
    "data.head()"
   ]
  },
  {
   "cell_type": "markdown",
   "id": "a306ccd5",
   "metadata": {},
   "source": [
    "## 3. Relative Strength Index (RSI)\n",
    "\n",
    "The Relative Strength Index (RSI) is a momentum oscillator that measures the speed and change of price movements. RSI oscillates between zero and 100. Traditionally, RSI is considered overbought when above 70 and oversold when below 30."
   ]
  },
  {
   "cell_type": "markdown",
   "id": "843d762c",
   "metadata": {},
   "source": [
    "### Formula\n",
    "The RSI is calculated using the following formula:\n",
    "$$\n",
    "RSI = 100 - \\frac{100}{1 + RS}\n",
    "$$\n",
    "Where:\n",
    "- $RS = \\frac{\\text{Average Gain}}{\\text{Average Loss}}$\n",
    "- **Average Gain**: The average of the upward price changes over a specified period.\n",
    "- **Average Loss**: The average of the downward price changes over the same period.\n",
    "The averages are typically smoothed, often using an exponential moving average."
   ]
  },
  {
   "cell_type": "code",
   "execution_count": 28,
   "id": "f37ada92",
   "metadata": {},
   "outputs": [],
   "source": [
    "# Calculate RSI\n",
    "def calculate_rsi(data, window=14):\n",
    "    delta = data['Close'].diff()\n",
    "    gain = (delta.where(delta > 0, 0)).rolling(window=window).mean()\n",
    "    loss = (-delta.where(delta < 0, 0)).rolling(window=window).mean()\n",
    "\n",
    "    rs = gain / loss\n",
    "    rsi = 100 - (100 / (1 + rs))\n",
    "    return rsi\n",
    "\n",
    "data['RSI'] = calculate_rsi(data)"
   ]
  },
  {
   "cell_type": "markdown",
   "id": "be8a3209",
   "metadata": {},
   "source": [
    "## 4. Stochastic Oscillator\n",
    "\n",
    "The Stochastic Oscillator is a momentum indicator that compares a particular closing price of a security to a range of its prices over a certain period of time. The sensitivity of the oscillator to market movements is reducible by adjusting that time period or by taking a moving average of the result."
   ]
  },
  {
   "cell_type": "markdown",
   "id": "a1a409ff",
   "metadata": {},
   "source": [
    "### Formula\n",
    "The Stochastic Oscillator is calculated with these formulas:\n",
    "$$\n",
    "\\%K = 100 \\times \\frac{C - L_{14}}{H_{14} - L_{14}}\n",
    "$$\n",
    "$$\n",
    "\\%D = \\text{3-period SMA of } \\%K\n",
    "$$\n",
    "Where:\n",
    "- $C$: The most recent closing price.\n",
    "- $L_{14}$: The lowest price over the last 14 periods.\n",
    "- $H_{14}$: The highest price over the last 14 periods.\n",
    "- $\\%D$: The 3-day simple moving average of %K, which acts as a signal line."
   ]
  },
  {
   "cell_type": "code",
   "execution_count": 29,
   "id": "3ec85ec7",
   "metadata": {},
   "outputs": [],
   "source": [
    "# Calculate Stochastic Oscillator\n",
    "def calculate_stochastic_oscillator(data, window=14):\n",
    "    low_min = data['Low'].rolling(window=window).min()\n",
    "    high_max = data['High'].rolling(window=window).max()\n",
    "    \n",
    "    data['%K'] = 100 * ((data['Close'] - low_min) / (high_max - low_min))\n",
    "    data['%D'] = data['%K'].rolling(window=3).mean()\n",
    "    return data\n",
    "\n",
    "data = calculate_stochastic_oscillator(data)"
   ]
  },
  {
   "cell_type": "markdown",
   "id": "f6cc817f",
   "metadata": {},
   "source": [
    "## 5. Williams %R\n",
    "\n",
    "Williams %R is a momentum indicator that is the inverse of the Fast Stochastic Oscillator. Also referred to as %R, Williams %R reflects the level of the close relative to the highest high for the look-back period."
   ]
  },
  {
   "cell_type": "markdown",
   "id": "3f957491",
   "metadata": {},
   "source": [
    "### Formula\n",
    "The Williams %R is calculated as follows:\n",
    "$$\n",
    "\\%R = -100 \\times \\frac{H_{14} - C}{H_{14} - L_{14}}\n",
    "$$\n",
    "Where:\n",
    "- $C$: The most recent closing price.\n",
    "- $L_{14}$: The lowest price over the last 14 periods.\n",
    "- $H_{14}$: The highest price over the last 14 periods."
   ]
  },
  {
   "cell_type": "code",
   "execution_count": 30,
   "id": "fc10f8c1",
   "metadata": {},
   "outputs": [],
   "source": [
    "# Calculate Williams %R\n",
    "def calculate_williams_r(data, window=14):\n",
    "    high_max = data['High'].rolling(window=window).max()\n",
    "    low_min = data['Low'].rolling(window=window).min()\n",
    "\n",
    "    data['%R'] = -100 * ((high_max - data['Close']) / (high_max - low_min))\n",
    "    return data\n",
    "\n",
    "data = calculate_williams_r(data)"
   ]
  },
  {
   "cell_type": "markdown",
   "id": "9d975b97",
   "metadata": {},
   "source": [
    "## 6. Commodity Channel Index (CCI)\n",
    "\n",
    "The Commodity Channel Index (CCI) is a versatile indicator that can be used to identify a new trend or warn of extreme conditions. CCI measures the current price level relative to an average price level over a given period of time."
   ]
  },
  {
   "cell_type": "markdown",
   "id": "2e92300b",
   "metadata": {},
   "source": [
    "### Formula\n",
    "The CCI is calculated with the following steps:\n",
    "1. Calculate the Typical Price (TP): \n",
    "   $$\n",
    "   TP = \\frac{\\text{High} + \\text{Low} + \\text{Close}}{3}\n",
    "   $$\n",
    "2. Calculate the Simple Moving Average (SMA) of the TP.\n",
    "3. Calculate the Mean Deviation.\n",
    "4. Compute the CCI:\n",
    "   $$\n",
    "   CCI = \\frac{TP - \\text{SMA}(TP)}{0.015 \\times \\text{Mean Deviation}}\n",
    "   $$"
   ]
  },
  {
   "cell_type": "code",
   "execution_count": 31,
   "id": "76159dec",
   "metadata": {},
   "outputs": [],
   "source": [
    "# Calculate CCI\n",
    "def calculate_cci(data, window=20):\n",
    "    tp = (data['High'] + data['Low'] + data['Close']) / 3\n",
    "    sma_tp = tp.rolling(window=window).mean()\n",
    "    mad = (tp - sma_tp).abs().rolling(window=window).mean()\n",
    "    \n",
    "    data['CCI'] = (tp - sma_tp) / (0.015 * mad)\n",
    "    return data\n",
    "\n",
    "data = calculate_cci(data)"
   ]
  },
  {
   "cell_type": "markdown",
   "id": "df3d6f6c",
   "metadata": {},
   "source": [
    "## 7. Visualization and Interpretation\n",
    "\n",
    "Now let's plot these indicators and see how they can be interpreted. We will look for overbought/oversold signals and potential divergences.\n",
    "\n",
    "- **RSI**: Overbought > 70, Oversold < 30\n",
    "- **Stochastic**: Overbought > 80, Oversold < 20\n",
    "- **Williams %R**: Overbought > -20, Oversold < -80\n",
    "- **CCI**: Overbought > 100, Oversold < -100"
   ]
  },
  {
   "cell_type": "code",
   "execution_count": 33,
   "id": "ef731035",
   "metadata": {},
   "outputs": [
    {
     "data": {
      "application/vnd.plotly.v1+json": {
       "config": {
        "plotlyServerURL": "https://plot.ly"
       },
       "data": [
        {
         "close": {
          "bdata": "uB6F61FobkBxPQrXo1huQIXrUbgejW5AXI/C9Sg0bkCkcD0K10NuQClcj8L1iG1AexSuR+E6bUDXo3A9ChdtQJqZmZmZqW1AH4XrUbh2bED2KFyPwq1sQDMzMzMzw2tA4XoUrkfpa0CkcD0K1+NrQEjhehSux2tAUrgeheupbECuR+F6FLZtQClcj8L12G1AcT0K16OgbUD2KFyPwm1tQB+F61G4bmxASOF6FK4HbUCF61G4Hv1sQIXrUbgeFW1Aw/UoXI9ibEAzMzMzM2tsQArXo3A9Cm1AUrgeheuRbUAfhetRuCZuQClcj8L1iG5AzczMzMyEbkCamZmZmZFuQLgehetRsG5Aj8L1KFynbkApXI/C9dhuQNejcD0K125AmpmZmZkBbkBI4XoUrp9tQHE9CtejMG5A16NwPQq3bUCkcD0K13NtQPYoXI/CbW1AcT0K16NgbUC4HoXrUdhtQPYoXI/CZWxAmpmZmZmRa0BmZmZmZhZrQIXrUbgeLWpAH4XrUbimakDXo3A9CrdqQIXrUbgejWpAH4XrUbjeakAK16NwPbpqQI/C9ShcP2tArkfhehSOa0AfhetRuO5rQEjhehSup2tAUrgehevxa0DsUbgehTNrQHsUrkfhumtAzczMzMzca0AzMzMzM/NrQD0K16NwXWlAXI/C9SiEZ0DXo3A9CqdmQK5H4XoUhmVAexSuR+HSaEA9CtejcMVnQBSuR+F6vGhAAAAAAABIaUBcj8L1KDxpQHE9CtejQGhA16NwPQqXaECF61G4Hh1oQI/C9Shc72hAw/UoXI+KaUAzMzMzMwNqQLgehetRIGpA7FG4HoU7akD2KFyPwl1qQNejcD0Kh2pA4XoUrkehakDD9Shcj6JpQFyPwvUo1GhAAAAAAADIaEBI4XoUrn9oQI/C9Shcp2hAcT0K16PIaEDhehSuR1lqQPYoXI/CnWpAw/UoXI+KakBmZmZmZm5qQLgehetRaGpAKVyPwvUYakDsUbgehdtpQHsUrkfhQmlA7FG4HoUraUBxPQrXo2hoQB+F61G4BmlAPQrXo3ANaUBmZmZmZv5oQDMzMzMzG2lAZmZmZmY2aUBxPQrXo2hpQArXo3A9WmlAXI/C9SgUaUA9CtejcH1pQGZmZmZmLmlAPQrXo3BVaUApXI/C9dhoQGZmZmZm5mhAZmZmZmaOaEA9CtejcM1oQBSuR+F6dGhAw/UoXI+SaEAAAAAAACBpQAAAAAAAMGlAmpmZmZkJaUBSuB6F6zFpQAAAAAAAIGlAw/UoXI8iaUA9CtejcKVpQArXo3A9+mlArkfhehSOakCamZmZmbFqQGZmZmZmPmpAuB6F61FAakAUrkfhemRqQIXrUbgejWpAhetRuB5lakCkcD0K1xNqQOxRuB6FI2pA",
          "dtype": "f8"
         },
         "high": {
          "bdata": "AAAAAAAQb0B7FK5H4XJuQI/C9Shc125AH4XrUbiebkCkcD0K12NuQMP1KFyP8m1A7FG4HoVDbUCamZmZmXFtQFyPwvUozG1ArkfhehSubUCPwvUoXPdsQFyPwvUo/GtAw/UoXI/ya0CPwvUoXE9sQHsUrkfhImxAexSuR+HybEDsUbgehfNtQClcj8L16G1AH4XrUbgGbkAzMzMzM9NuQHE9Ctej6GxACtejcD0SbUDsUbgehQNtQEjhehSuJ21ArkfhehQubUDhehSuR8lsQD0K16NwXW1AzczMzMyUbUBxPQrXo0BuQI/C9Shcp25A7FG4HoWbbkCuR+F6FLZuQB+F61G4zm5A7FG4HoULb0ApXI/C9RBvQD0K16NwNW9AhetRuB6VbkAUrkfhekRuQHE9CtejOG5AH4XrUbh2bkC4HoXrUfhtQEjhehSuh21AmpmZmZmxbUCamZmZmSFuQDMzMzMze21A4XoUrkcxbEAfhetRuK5rQFK4HoXrEWtAPQrXo3C1akCuR+F6FN5qQKRwPQrX22pA16NwPQpPa0AfhetRuCZrQJqZmZmZUWtArkfhehSma0BSuB6F6/lrQI/C9ShcF2xAZmZmZmYWbEBxPQrXo/BrQArXo3A9KmxAFK5H4Xrsa0DNzMzMzBxsQNejcD0K52lApHA9CtfzaEDNzMzMzDxoQHsUrkfhwmdAMzMzMzMLaUBxPQrXo1BoQClcj8L16GhAhetRuB6VakBI4XoUrmdpQK5H4XoUDmlACtejcD3SaECamZmZmTFoQMP1KFyPKmlAj8L1KFz3aUBSuB6F6xFqQI/C9ShcL2pA16NwPQpnakAfhetRuH5qQJqZmZmZqWpAKVyPwvXIakDXo3A9CtdpQMP1KFyPemlAFK5H4XoMaUD2KFyPwuVoQOF6FK5H+WhAKVyPwvUIaUBxPQrXo2hqQM3MzMzMrGpArkfhehS+akAfhetRuJ5qQArXo3A9kmpAj8L1KFwvakDXo3A9Cg9qQOF6FK5H4WlAAAAAAABYaUBmZmZmZrZoQEjhehSuF2lAj8L1KFxXaUBSuB6F63lpQB+F61G4PmlAXI/C9ShEaUBxPQrXo3hpQEjhehSux2lAAAAAAACYaUBmZmZmZrZpQAAAAAAAwGlAMzMzMzOLaUAAAAAAAJBpQPYoXI/C9WhApHA9CtcLaUCuR+F6FNZoQBSuR+F6zGhACtejcD2yaEBmZmZmZjZpQJqZmZmZSWlArkfhehRuaUA9CtejcHVpQBSuR+F6VGlA16NwPQpnaUAUrkfheuxpQK5H4XoURmpAexSuR+GqakDNzMzMzNRqQI/C9ShcB2tA9ihcj8JtakDD9Shcj2pqQI/C9Shcr2pAXI/C9SiEakCF61G4Hl1qQBSuR+F6fGpA",
          "dtype": "f8"
         },
         "low": {
          "bdata": "SOF6FK4nbkBSuB6F6yluQOxRuB6FU25AcT0K16MYbkDXo3A9Cu9tQK5H4XoUDm1APQrXo3ClbECF61G4Hv1sQKRwPQrXO21Aj8L1KFxvbED2KFyPwn1sQDMzMzMzW2tAuB6F61Foa0BxPQrXo7hrQFyPwvUonGtArkfhehTua0AAAAAAAMhsQGZmZmZmLm1AFK5H4XqUbUBcj8L1KBxtQIXrUbgeJWxAMzMzMzNDbEDXo3A9CndsQFyPwvUovGxAH4XrUbhWbEDNzMzMzFxsQMP1KFyPemxAXI/C9SjMbEC4HoXrUWhtQD0K16NwFW5AcT0K16MwbkB7FK5H4VpuQNejcD0Kf25AzczMzMycbkAzMzMzM4NuQHsUrkfhkm5ACtejcD3abUAAAAAAAJhtQM3MzMzMvGxAmpmZmZl5bUCkcD0K10ttQPYoXI/CnWxAMzMzMzMbbUBmZmZmZk5tQPYoXI/C/WtAPQrXo3Ala0Bcj8L1KNRqQM3MzMzMBGpAUrgehespakBmZmZmZjZqQB+F61G4ZmpA16NwPQqvakCuR+F6FH5qQAAAAAAAYGpA4XoUrkdJa0DhehSuR3lrQPYoXI/ChWtAcT0K16OIa0AUrkfheixrQGZmZmZm/mpA7FG4HoVTa0CPwvUoXJdrQEjhehSuH2lAexSuR+FiZ0AUrkfhesxlQEjhehSuH2VAhetRuB51ZUC4HoXrUdhmQArXo3A9OmdAzczMzMwcaUDhehSuR/FoQKRwPQrXA2hAPQrXo3BFaEBSuB6F67FnQB+F61G4dmhAKVyPwvVQaUA9CtejcFVpQPYoXI/CvWlArkfhehTmaUAzMzMzMwNqQM3MzMzMzGlAXI/C9SgUakDNzMzMzDxpQGZmZmZmvmhAuB6F61GYaEAAAAAAACBoQPYoXI/CTWhAKVyPwvWoaEAAAAAAANhpQAAAAAAAIGpAw/UoXI9SakDhehSuRzFqQHE9CtejOGpAuB6F61GIaUApXI/C9aBpQB+F61G4FmlAZmZmZmb2aEAfhetRuC5oQPYoXI/CrWhAzczMzMz8aEC4HoXrUdBoQClcj8L1mGhApHA9CtcDaUAfhetRuB5pQDMzMzMzQ2lAzczMzMwEaUCamZmZmUFpQHE9CtejAGlACtejcD0SaUCF61G4Hs1oQOxRuB6Fq2hAZmZmZmZ2aEBSuB6F65FoQB+F61G4ZmhACtejcD1iaEDsUbgehZtoQB+F61G43mhAZmZmZmYGaUCkcD0K1xNpQB+F61G47mhAAAAAAAAAaUC4HoXrUehoQBSuR+F6xGlAFK5H4XoEakBSuB6F63lqQJqZmZmZGWpAZmZmZmYOakDXo3A9CudpQClcj8L1QGpA7FG4HoU7akDhehSuR/FpQD0K16NwHWpA",
          "dtype": "f8"
         },
         "name": "Price",
         "open": {
          "bdata": "w/UoXI8Kb0BxPQrXo1huQNejcD0Kd25AzczMzMxMbkB7FK5H4SpuQPYoXI/C7W1A16NwPQofbUCuR+F6FEZtQMP1KFyPQm1AKVyPwvWYbUBSuB6F6/FsQB+F61G47mtAuB6F61Foa0BmZmZmZgZsQEjhehSuB2xAj8L1KFzva0DhehSuR8lsQFK4HoXrMW1AMzMzMzPDbUAzMzMzM9NuQK5H4XoUrmxAZmZmZmZWbECPwvUoXH9sQI/C9Shc12xA4XoUrkcBbUBxPQrXo6hsQM3MzMzMfGxAzczMzMzcbEAzMzMzM5NtQPYoXI/CHW5Aw/UoXI96bkB7FK5H4YpuQKRwPQrXk25AXI/C9Si0bkDsUbgehZNuQPYoXI/C9W5AuB6F61GAbkAzMzMzM+NtQBSuR+F6lG1A16NwPQovbkDNzMzMzKxtQOxRuB6FY21AXI/C9ShEbUCamZmZmVltQI/C9ShcZ21AcT0K16Pwa0AzMzMzM3trQD0K16Nw9WpA16NwPQpfakApXI/C9aBqQFyPwvUovGpArkfhehS+akAfhetRuLZqQClcj8L1aGpAH4XrUbiWa0CPwvUoXI9rQNejcD0K52tAMzMzMzOja0Bcj8L1KKxrQI/C9ShcF2tAcT0K16Nwa0ApXI/C9aBrQHE9CtejqGlAFK5H4Xo0aEDXo3A9Ch9mQB+F61G4TmdA16NwPQp3ZUAK16NwPZpnQOxRuB6FO2dAhetRuB5lakAzMzMzMzNpQDMzMzMzw2hArkfhehSeaEBxPQrXoyBoQOxRuB6Fe2hAj8L1KFy3aUCkcD0K15NpQDMzMzMzw2lA16NwPQo3akA9CtejcA1qQClcj8L1IGpAUrgehesZakAK16NwPbppQMP1KFyPWmlAZmZmZma+aECF61G4Ht1oQB+F61G4rmhASOF6FK7XaEDXo3A9Cl9qQPYoXI/CTWpA9ihcj8KNakBmZmZmZl5qQOxRuB6Fi2pAhetRuB79aUA9CtejcPVpQD0K16NwpWlAH4XrUbgWaUA9CtejcDVoQJqZmZmZyWhAexSuR+ESaUDD9Shcj3JpQKRwPQrX62hAKVyPwvUIaUAzMzMzMytpQIXrUbgeXWlAAAAAAABwaUAAAAAAAGBpQBSuR+F6jGlAMzMzMzMTaUAAAAAAAHBpQMP1KFyP4mhAj8L1KFz3aECamZmZmaloQGZmZmZmpmhArkfhehR+aEBI4XoUrsdoQFyPwvUoNGlAexSuR+FSaUBmZmZmZi5pQPYoXI/CLWlAFK5H4Xo8aUC4HoXrUUBpQD0K16Nw1WlAhetRuB4dakDNzMzMzIRqQPYoXI/ClWpAMzMzMzNDakApXI/C9TBqQLgehetRUGpACtejcD1SakD2KFyPwj1qQNejcD0KJ2pA",
          "dtype": "f8"
         },
         "type": "candlestick",
         "x": [
          "2025-01-02T00:00:00-05:00",
          "2025-01-03T00:00:00-05:00",
          "2025-01-06T00:00:00-05:00",
          "2025-01-07T00:00:00-05:00",
          "2025-01-08T00:00:00-05:00",
          "2025-01-10T00:00:00-05:00",
          "2025-01-13T00:00:00-05:00",
          "2025-01-14T00:00:00-05:00",
          "2025-01-15T00:00:00-05:00",
          "2025-01-16T00:00:00-05:00",
          "2025-01-17T00:00:00-05:00",
          "2025-01-21T00:00:00-05:00",
          "2025-01-22T00:00:00-05:00",
          "2025-01-23T00:00:00-05:00",
          "2025-01-24T00:00:00-05:00",
          "2025-01-27T00:00:00-05:00",
          "2025-01-28T00:00:00-05:00",
          "2025-01-29T00:00:00-05:00",
          "2025-01-30T00:00:00-05:00",
          "2025-01-31T00:00:00-05:00",
          "2025-02-03T00:00:00-05:00",
          "2025-02-04T00:00:00-05:00",
          "2025-02-05T00:00:00-05:00",
          "2025-02-06T00:00:00-05:00",
          "2025-02-07T00:00:00-05:00",
          "2025-02-10T00:00:00-05:00",
          "2025-02-11T00:00:00-05:00",
          "2025-02-12T00:00:00-05:00",
          "2025-02-13T00:00:00-05:00",
          "2025-02-14T00:00:00-05:00",
          "2025-02-18T00:00:00-05:00",
          "2025-02-19T00:00:00-05:00",
          "2025-02-20T00:00:00-05:00",
          "2025-02-21T00:00:00-05:00",
          "2025-02-24T00:00:00-05:00",
          "2025-02-25T00:00:00-05:00",
          "2025-02-26T00:00:00-05:00",
          "2025-02-27T00:00:00-05:00",
          "2025-02-28T00:00:00-05:00",
          "2025-03-03T00:00:00-05:00",
          "2025-03-04T00:00:00-05:00",
          "2025-03-05T00:00:00-05:00",
          "2025-03-06T00:00:00-05:00",
          "2025-03-07T00:00:00-05:00",
          "2025-03-10T00:00:00-04:00",
          "2025-03-11T00:00:00-04:00",
          "2025-03-12T00:00:00-04:00",
          "2025-03-13T00:00:00-04:00",
          "2025-03-14T00:00:00-04:00",
          "2025-03-17T00:00:00-04:00",
          "2025-03-18T00:00:00-04:00",
          "2025-03-19T00:00:00-04:00",
          "2025-03-20T00:00:00-04:00",
          "2025-03-21T00:00:00-04:00",
          "2025-03-24T00:00:00-04:00",
          "2025-03-25T00:00:00-04:00",
          "2025-03-26T00:00:00-04:00",
          "2025-03-27T00:00:00-04:00",
          "2025-03-28T00:00:00-04:00",
          "2025-03-31T00:00:00-04:00",
          "2025-04-01T00:00:00-04:00",
          "2025-04-02T00:00:00-04:00",
          "2025-04-03T00:00:00-04:00",
          "2025-04-04T00:00:00-04:00",
          "2025-04-07T00:00:00-04:00",
          "2025-04-08T00:00:00-04:00",
          "2025-04-09T00:00:00-04:00",
          "2025-04-10T00:00:00-04:00",
          "2025-04-11T00:00:00-04:00",
          "2025-04-14T00:00:00-04:00",
          "2025-04-15T00:00:00-04:00",
          "2025-04-16T00:00:00-04:00",
          "2025-04-17T00:00:00-04:00",
          "2025-04-21T00:00:00-04:00",
          "2025-04-22T00:00:00-04:00",
          "2025-04-23T00:00:00-04:00",
          "2025-04-24T00:00:00-04:00",
          "2025-04-25T00:00:00-04:00",
          "2025-04-28T00:00:00-04:00",
          "2025-04-29T00:00:00-04:00",
          "2025-04-30T00:00:00-04:00",
          "2025-05-01T00:00:00-04:00",
          "2025-05-02T00:00:00-04:00",
          "2025-05-05T00:00:00-04:00",
          "2025-05-06T00:00:00-04:00",
          "2025-05-07T00:00:00-04:00",
          "2025-05-08T00:00:00-04:00",
          "2025-05-09T00:00:00-04:00",
          "2025-05-12T00:00:00-04:00",
          "2025-05-13T00:00:00-04:00",
          "2025-05-14T00:00:00-04:00",
          "2025-05-15T00:00:00-04:00",
          "2025-05-16T00:00:00-04:00",
          "2025-05-19T00:00:00-04:00",
          "2025-05-20T00:00:00-04:00",
          "2025-05-21T00:00:00-04:00",
          "2025-05-22T00:00:00-04:00",
          "2025-05-23T00:00:00-04:00",
          "2025-05-27T00:00:00-04:00",
          "2025-05-28T00:00:00-04:00",
          "2025-05-29T00:00:00-04:00",
          "2025-05-30T00:00:00-04:00",
          "2025-06-02T00:00:00-04:00",
          "2025-06-03T00:00:00-04:00",
          "2025-06-04T00:00:00-04:00",
          "2025-06-05T00:00:00-04:00",
          "2025-06-06T00:00:00-04:00",
          "2025-06-09T00:00:00-04:00",
          "2025-06-10T00:00:00-04:00",
          "2025-06-11T00:00:00-04:00",
          "2025-06-12T00:00:00-04:00",
          "2025-06-13T00:00:00-04:00",
          "2025-06-16T00:00:00-04:00",
          "2025-06-17T00:00:00-04:00",
          "2025-06-18T00:00:00-04:00",
          "2025-06-20T00:00:00-04:00",
          "2025-06-23T00:00:00-04:00",
          "2025-06-24T00:00:00-04:00",
          "2025-06-25T00:00:00-04:00",
          "2025-06-26T00:00:00-04:00",
          "2025-06-27T00:00:00-04:00",
          "2025-06-30T00:00:00-04:00",
          "2025-07-01T00:00:00-04:00",
          "2025-07-02T00:00:00-04:00",
          "2025-07-03T00:00:00-04:00",
          "2025-07-07T00:00:00-04:00",
          "2025-07-08T00:00:00-04:00",
          "2025-07-09T00:00:00-04:00",
          "2025-07-10T00:00:00-04:00",
          "2025-07-11T00:00:00-04:00",
          "2025-07-14T00:00:00-04:00",
          "2025-07-15T00:00:00-04:00"
         ],
         "xaxis": "x",
         "yaxis": "y"
        },
        {
         "name": "RSI",
         "type": "scatter",
         "x": [
          "2025-01-02T00:00:00-05:00",
          "2025-01-03T00:00:00-05:00",
          "2025-01-06T00:00:00-05:00",
          "2025-01-07T00:00:00-05:00",
          "2025-01-08T00:00:00-05:00",
          "2025-01-10T00:00:00-05:00",
          "2025-01-13T00:00:00-05:00",
          "2025-01-14T00:00:00-05:00",
          "2025-01-15T00:00:00-05:00",
          "2025-01-16T00:00:00-05:00",
          "2025-01-17T00:00:00-05:00",
          "2025-01-21T00:00:00-05:00",
          "2025-01-22T00:00:00-05:00",
          "2025-01-23T00:00:00-05:00",
          "2025-01-24T00:00:00-05:00",
          "2025-01-27T00:00:00-05:00",
          "2025-01-28T00:00:00-05:00",
          "2025-01-29T00:00:00-05:00",
          "2025-01-30T00:00:00-05:00",
          "2025-01-31T00:00:00-05:00",
          "2025-02-03T00:00:00-05:00",
          "2025-02-04T00:00:00-05:00",
          "2025-02-05T00:00:00-05:00",
          "2025-02-06T00:00:00-05:00",
          "2025-02-07T00:00:00-05:00",
          "2025-02-10T00:00:00-05:00",
          "2025-02-11T00:00:00-05:00",
          "2025-02-12T00:00:00-05:00",
          "2025-02-13T00:00:00-05:00",
          "2025-02-14T00:00:00-05:00",
          "2025-02-18T00:00:00-05:00",
          "2025-02-19T00:00:00-05:00",
          "2025-02-20T00:00:00-05:00",
          "2025-02-21T00:00:00-05:00",
          "2025-02-24T00:00:00-05:00",
          "2025-02-25T00:00:00-05:00",
          "2025-02-26T00:00:00-05:00",
          "2025-02-27T00:00:00-05:00",
          "2025-02-28T00:00:00-05:00",
          "2025-03-03T00:00:00-05:00",
          "2025-03-04T00:00:00-05:00",
          "2025-03-05T00:00:00-05:00",
          "2025-03-06T00:00:00-05:00",
          "2025-03-07T00:00:00-05:00",
          "2025-03-10T00:00:00-04:00",
          "2025-03-11T00:00:00-04:00",
          "2025-03-12T00:00:00-04:00",
          "2025-03-13T00:00:00-04:00",
          "2025-03-14T00:00:00-04:00",
          "2025-03-17T00:00:00-04:00",
          "2025-03-18T00:00:00-04:00",
          "2025-03-19T00:00:00-04:00",
          "2025-03-20T00:00:00-04:00",
          "2025-03-21T00:00:00-04:00",
          "2025-03-24T00:00:00-04:00",
          "2025-03-25T00:00:00-04:00",
          "2025-03-26T00:00:00-04:00",
          "2025-03-27T00:00:00-04:00",
          "2025-03-28T00:00:00-04:00",
          "2025-03-31T00:00:00-04:00",
          "2025-04-01T00:00:00-04:00",
          "2025-04-02T00:00:00-04:00",
          "2025-04-03T00:00:00-04:00",
          "2025-04-04T00:00:00-04:00",
          "2025-04-07T00:00:00-04:00",
          "2025-04-08T00:00:00-04:00",
          "2025-04-09T00:00:00-04:00",
          "2025-04-10T00:00:00-04:00",
          "2025-04-11T00:00:00-04:00",
          "2025-04-14T00:00:00-04:00",
          "2025-04-15T00:00:00-04:00",
          "2025-04-16T00:00:00-04:00",
          "2025-04-17T00:00:00-04:00",
          "2025-04-21T00:00:00-04:00",
          "2025-04-22T00:00:00-04:00",
          "2025-04-23T00:00:00-04:00",
          "2025-04-24T00:00:00-04:00",
          "2025-04-25T00:00:00-04:00",
          "2025-04-28T00:00:00-04:00",
          "2025-04-29T00:00:00-04:00",
          "2025-04-30T00:00:00-04:00",
          "2025-05-01T00:00:00-04:00",
          "2025-05-02T00:00:00-04:00",
          "2025-05-05T00:00:00-04:00",
          "2025-05-06T00:00:00-04:00",
          "2025-05-07T00:00:00-04:00",
          "2025-05-08T00:00:00-04:00",
          "2025-05-09T00:00:00-04:00",
          "2025-05-12T00:00:00-04:00",
          "2025-05-13T00:00:00-04:00",
          "2025-05-14T00:00:00-04:00",
          "2025-05-15T00:00:00-04:00",
          "2025-05-16T00:00:00-04:00",
          "2025-05-19T00:00:00-04:00",
          "2025-05-20T00:00:00-04:00",
          "2025-05-21T00:00:00-04:00",
          "2025-05-22T00:00:00-04:00",
          "2025-05-23T00:00:00-04:00",
          "2025-05-27T00:00:00-04:00",
          "2025-05-28T00:00:00-04:00",
          "2025-05-29T00:00:00-04:00",
          "2025-05-30T00:00:00-04:00",
          "2025-06-02T00:00:00-04:00",
          "2025-06-03T00:00:00-04:00",
          "2025-06-04T00:00:00-04:00",
          "2025-06-05T00:00:00-04:00",
          "2025-06-06T00:00:00-04:00",
          "2025-06-09T00:00:00-04:00",
          "2025-06-10T00:00:00-04:00",
          "2025-06-11T00:00:00-04:00",
          "2025-06-12T00:00:00-04:00",
          "2025-06-13T00:00:00-04:00",
          "2025-06-16T00:00:00-04:00",
          "2025-06-17T00:00:00-04:00",
          "2025-06-18T00:00:00-04:00",
          "2025-06-20T00:00:00-04:00",
          "2025-06-23T00:00:00-04:00",
          "2025-06-24T00:00:00-04:00",
          "2025-06-25T00:00:00-04:00",
          "2025-06-26T00:00:00-04:00",
          "2025-06-27T00:00:00-04:00",
          "2025-06-30T00:00:00-04:00",
          "2025-07-01T00:00:00-04:00",
          "2025-07-02T00:00:00-04:00",
          "2025-07-03T00:00:00-04:00",
          "2025-07-07T00:00:00-04:00",
          "2025-07-08T00:00:00-04:00",
          "2025-07-09T00:00:00-04:00",
          "2025-07-10T00:00:00-04:00",
          "2025-07-11T00:00:00-04:00",
          "2025-07-14T00:00:00-04:00",
          "2025-07-15T00:00:00-04:00"
         ],
         "xaxis": "x2",
         "y": {
          "bdata": "AAAAAAAA+H8AAAAAAAD4fwAAAAAAAPh/AAAAAAAA+H8AAAAAAAD4fwAAAAAAAPh/AAAAAAAA+H8AAAAAAAD4fwAAAAAAAPh/AAAAAAAA+H8AAAAAAAD4fwAAAAAAAPh/AAAAAAAA+H+gGaucu204QNRM9AsK5TdAAo15XOPQQUBkyGn7T91FQPVjHrh8oEdAi6PfJwGaRkA/+il6xpBIQJXKW5j2EUZA9qpMKiDLSECdVKzfZ39GQK/miPXXv0tAanyvpj7MR0CGcbqvoiNMQEUOXnul801A/TcbKBnET0AEltsHJPBQQPhPiMggSVBApYknhvvrTECBGs0UB5BMQGl894MCWU5AAiJ/OS9iT0BxP4YDaw5UQD7KdiQHJVNA8Pf6TmYPT0BoswkYIwRMQCoViKdKrlFAiPgvRa/BT0Bg6sn47VJLQM8uuTUMGkhAcpkBjxBQQ0AJRWTn2gxEQIgwDl4XbTxAaDoUQj6pN0AMiJV6sEQ0QMCE2j3atDFAgJrPKDjqNECAhk7HRqE1QJBNNtlk0zdAWC99L07vPEBosNfESK01QDRKCkOl9j1AwGIzbhRaQUDzm6mxaEtDQPhfn/+jpkJAIsQscfjOQUA2DI/Spe5DQFQYVp0+uElA6T107k+wTEC4Mo4woIFRQKI+ADULFURAIP9cLxDJPkAoSUt3tGU8QKBq6cEb0TZA/xB+UiNWRUAqGyzo5JJCQKd7GNPlB0RA9ZxOPXVhREDVo/4B7LZEQDz9j0dSxEJALu3EIL93REAFqxp0UbNCQLiCmFxBIkRAxKFZxiwhRUCnLKv6NzRKQPV0Ex15kk5AfOwlo/iVUEDNZ7/CNpRSQIolIL0eP09AHsKov8OWUkATr2sxH89MQHrH1MDeKUdAaDhCxaooR0CUIJQglCBKQJryooBKTUlANdJ8BlZlTECY+t+XAjpPQL9JjzP+CE5ApVDT0disS0AXN2F+V4tKQKPSg6Sw5klAENU6+yKqR0CQGzdu3LhFQPTOSNfC5EJA9J2N+s6GRkDrm6Nvjr5GQCA3Y38YLEpAJlo4A0LJS0DrtcOGlr5KQK3JqfQgqUpA5vJGm9CiQEB4DeU1lNc/QOrUyFHnAkBAyHZNdfOCPkBfZIVExQ1DQCXHIAlaD0NAsDwjl5SGRUBnEddrQSxGQMGHIOWmIkdAFnHKC8UmSkDWGMRhNwZHQM4oM5T+QkRAHjv3l3O4RUCMnpeO3SBJQD3da+Cl00hATeZdi9FkRkCBA0w1x+xHQDMlMn6UVUlAF77sw+gYRkBamNUo4pBMQAyfbRocrk1AxvA0F+CLUkDiQ4WWR7NSQDOfwlSjKlJABwwf+r+yUUBlUmaMr+NTQL61PYDy81NA1nN/GpfuUUCA1QRYTQBQQJ2h2CPq9FBA",
          "dtype": "f8"
         },
         "yaxis": "y2"
        },
        {
         "name": "%K (Fast)",
         "type": "scatter",
         "x": [
          "2025-01-02T00:00:00-05:00",
          "2025-01-03T00:00:00-05:00",
          "2025-01-06T00:00:00-05:00",
          "2025-01-07T00:00:00-05:00",
          "2025-01-08T00:00:00-05:00",
          "2025-01-10T00:00:00-05:00",
          "2025-01-13T00:00:00-05:00",
          "2025-01-14T00:00:00-05:00",
          "2025-01-15T00:00:00-05:00",
          "2025-01-16T00:00:00-05:00",
          "2025-01-17T00:00:00-05:00",
          "2025-01-21T00:00:00-05:00",
          "2025-01-22T00:00:00-05:00",
          "2025-01-23T00:00:00-05:00",
          "2025-01-24T00:00:00-05:00",
          "2025-01-27T00:00:00-05:00",
          "2025-01-28T00:00:00-05:00",
          "2025-01-29T00:00:00-05:00",
          "2025-01-30T00:00:00-05:00",
          "2025-01-31T00:00:00-05:00",
          "2025-02-03T00:00:00-05:00",
          "2025-02-04T00:00:00-05:00",
          "2025-02-05T00:00:00-05:00",
          "2025-02-06T00:00:00-05:00",
          "2025-02-07T00:00:00-05:00",
          "2025-02-10T00:00:00-05:00",
          "2025-02-11T00:00:00-05:00",
          "2025-02-12T00:00:00-05:00",
          "2025-02-13T00:00:00-05:00",
          "2025-02-14T00:00:00-05:00",
          "2025-02-18T00:00:00-05:00",
          "2025-02-19T00:00:00-05:00",
          "2025-02-20T00:00:00-05:00",
          "2025-02-21T00:00:00-05:00",
          "2025-02-24T00:00:00-05:00",
          "2025-02-25T00:00:00-05:00",
          "2025-02-26T00:00:00-05:00",
          "2025-02-27T00:00:00-05:00",
          "2025-02-28T00:00:00-05:00",
          "2025-03-03T00:00:00-05:00",
          "2025-03-04T00:00:00-05:00",
          "2025-03-05T00:00:00-05:00",
          "2025-03-06T00:00:00-05:00",
          "2025-03-07T00:00:00-05:00",
          "2025-03-10T00:00:00-04:00",
          "2025-03-11T00:00:00-04:00",
          "2025-03-12T00:00:00-04:00",
          "2025-03-13T00:00:00-04:00",
          "2025-03-14T00:00:00-04:00",
          "2025-03-17T00:00:00-04:00",
          "2025-03-18T00:00:00-04:00",
          "2025-03-19T00:00:00-04:00",
          "2025-03-20T00:00:00-04:00",
          "2025-03-21T00:00:00-04:00",
          "2025-03-24T00:00:00-04:00",
          "2025-03-25T00:00:00-04:00",
          "2025-03-26T00:00:00-04:00",
          "2025-03-27T00:00:00-04:00",
          "2025-03-28T00:00:00-04:00",
          "2025-03-31T00:00:00-04:00",
          "2025-04-01T00:00:00-04:00",
          "2025-04-02T00:00:00-04:00",
          "2025-04-03T00:00:00-04:00",
          "2025-04-04T00:00:00-04:00",
          "2025-04-07T00:00:00-04:00",
          "2025-04-08T00:00:00-04:00",
          "2025-04-09T00:00:00-04:00",
          "2025-04-10T00:00:00-04:00",
          "2025-04-11T00:00:00-04:00",
          "2025-04-14T00:00:00-04:00",
          "2025-04-15T00:00:00-04:00",
          "2025-04-16T00:00:00-04:00",
          "2025-04-17T00:00:00-04:00",
          "2025-04-21T00:00:00-04:00",
          "2025-04-22T00:00:00-04:00",
          "2025-04-23T00:00:00-04:00",
          "2025-04-24T00:00:00-04:00",
          "2025-04-25T00:00:00-04:00",
          "2025-04-28T00:00:00-04:00",
          "2025-04-29T00:00:00-04:00",
          "2025-04-30T00:00:00-04:00",
          "2025-05-01T00:00:00-04:00",
          "2025-05-02T00:00:00-04:00",
          "2025-05-05T00:00:00-04:00",
          "2025-05-06T00:00:00-04:00",
          "2025-05-07T00:00:00-04:00",
          "2025-05-08T00:00:00-04:00",
          "2025-05-09T00:00:00-04:00",
          "2025-05-12T00:00:00-04:00",
          "2025-05-13T00:00:00-04:00",
          "2025-05-14T00:00:00-04:00",
          "2025-05-15T00:00:00-04:00",
          "2025-05-16T00:00:00-04:00",
          "2025-05-19T00:00:00-04:00",
          "2025-05-20T00:00:00-04:00",
          "2025-05-21T00:00:00-04:00",
          "2025-05-22T00:00:00-04:00",
          "2025-05-23T00:00:00-04:00",
          "2025-05-27T00:00:00-04:00",
          "2025-05-28T00:00:00-04:00",
          "2025-05-29T00:00:00-04:00",
          "2025-05-30T00:00:00-04:00",
          "2025-06-02T00:00:00-04:00",
          "2025-06-03T00:00:00-04:00",
          "2025-06-04T00:00:00-04:00",
          "2025-06-05T00:00:00-04:00",
          "2025-06-06T00:00:00-04:00",
          "2025-06-09T00:00:00-04:00",
          "2025-06-10T00:00:00-04:00",
          "2025-06-11T00:00:00-04:00",
          "2025-06-12T00:00:00-04:00",
          "2025-06-13T00:00:00-04:00",
          "2025-06-16T00:00:00-04:00",
          "2025-06-17T00:00:00-04:00",
          "2025-06-18T00:00:00-04:00",
          "2025-06-20T00:00:00-04:00",
          "2025-06-23T00:00:00-04:00",
          "2025-06-24T00:00:00-04:00",
          "2025-06-25T00:00:00-04:00",
          "2025-06-26T00:00:00-04:00",
          "2025-06-27T00:00:00-04:00",
          "2025-06-30T00:00:00-04:00",
          "2025-07-01T00:00:00-04:00",
          "2025-07-02T00:00:00-04:00",
          "2025-07-03T00:00:00-04:00",
          "2025-07-07T00:00:00-04:00",
          "2025-07-08T00:00:00-04:00",
          "2025-07-09T00:00:00-04:00",
          "2025-07-10T00:00:00-04:00",
          "2025-07-11T00:00:00-04:00",
          "2025-07-14T00:00:00-04:00",
          "2025-07-15T00:00:00-04:00"
         ],
         "xaxis": "x3",
         "y": {
          "bdata": "AAAAAAAA+H8AAAAAAAD4fwAAAAAAAPh/AAAAAAAA+H8AAAAAAAD4fwAAAAAAAPh/AAAAAAAA+H8AAAAAAAD4fwAAAAAAAPh/AAAAAAAA+H8AAAAAAAD4fwAAAAAAAPh/AAAAAAAA+H+bcSmgfc0sQHAyr7uJUShAx+dRqUvCQkAsLjMyAApSQIzxyrSKh1RAb8eQ2zFEVUACHr0ytt9NQH0wRT7rBj9ADOJCzUkgSECCuFBzEohHQCEu1JwE4khAmJqTQFyoPUBTM8LFIJc9QH3BXgZQPUZAq0nt5Gt7TkAs91sQiS5TQEd6oHJ2S1ZAsDGRHqgkVkD+1ZhID5xWQK/GRHqguldAzQjLPY2gVUCBcwQzqwxXQH/rCEqzyVVAAzphDe8MTUCOmAutAmNGQGSkgj5EDVBARFZkRVakRkDOgn4nx+48QFiFdMgkVz9AXSIJhxFdPUBagNgfu7JHQJsCtX6lQClA9szMzMzMJEABKlSoUKEXQJiiGmYHRwhAwzc5FLFfKEDVuh3IHoMuQO8QrR+i9SdAi7I0UZYmM0BkPB6Px+MvQGxS5hjg4D1A9cDIDoWtQkBYF9JieURHQCyIyRXE5ENAZwcYzt3QS0B5DhoNFTNLQNY1m5Pa7lNASUfaKPZ5VUDK0eACblBWQAc8wsr5uh9AZgmf11TDBUB8P6phNdIqQIIJLSEmuRZAFxNcFhRGSkBRqXIlyMxCQM/XcwsEp0lAQ1Aavb+FTUAEkJ9JrDFNQEnvb2GgN0ZASa/vZiedSECAOajKOmRFQCo4031cREtAmkJwKzU7VEA+UisTt2NWQOr0cjkU6VZAUpUjT6ZlV0A0OB+D8/FXQDcmxIKsHVhAxQPlCSfpV0DaAOP2PmRPQAzZUqxwWEJARkLwJq2TQUBh4TBR5gI6QO6QLcUKBz9AS2D2gNnDOEBjD5g9YOZUQKEJfyb8aVdAXCpiqYi1VkDK0TdH36xVQDit7rS6c1VAnlZ3Wt2JUkCL8hrKa0hQQNVVB25ytEVA4lSjPDj2Q0D2au2TVa4lQA7H/kJCN0FA9P/////9QEDq////f7A/QPn///+/CkJA9v////8dREAFAAAAQPNHQPb//////0dAtfCdA4PCQkB8cKDKxlJQQB+EzUeXnUpAOFtCMID0UEB0NohUU9BEQKZV1pf7dEZAZjQsC4d2HEC9Oeecc845QKB++SMLMA9Au9Jyh2UJK0CwQoE8WItKQNzP+dZOyExATLALMTJpR0CIxOWvXbBNQPM0hmeOIEtAPbdKTT5+S0ADe8fUwH5UQEzTNE3TFFVA8d3wo7rEV0A8zGEOc5hXQJY5+S2RlFFAZmwg7bamUUBfqYLSffxSQGVM3o7XEVRA0ojbiSKpUUCIDqD7/JNLQDACsuSUBU1A",
          "dtype": "f8"
         },
         "yaxis": "y3"
        },
        {
         "name": "%D (Slow)",
         "type": "scatter",
         "x": [
          "2025-01-02T00:00:00-05:00",
          "2025-01-03T00:00:00-05:00",
          "2025-01-06T00:00:00-05:00",
          "2025-01-07T00:00:00-05:00",
          "2025-01-08T00:00:00-05:00",
          "2025-01-10T00:00:00-05:00",
          "2025-01-13T00:00:00-05:00",
          "2025-01-14T00:00:00-05:00",
          "2025-01-15T00:00:00-05:00",
          "2025-01-16T00:00:00-05:00",
          "2025-01-17T00:00:00-05:00",
          "2025-01-21T00:00:00-05:00",
          "2025-01-22T00:00:00-05:00",
          "2025-01-23T00:00:00-05:00",
          "2025-01-24T00:00:00-05:00",
          "2025-01-27T00:00:00-05:00",
          "2025-01-28T00:00:00-05:00",
          "2025-01-29T00:00:00-05:00",
          "2025-01-30T00:00:00-05:00",
          "2025-01-31T00:00:00-05:00",
          "2025-02-03T00:00:00-05:00",
          "2025-02-04T00:00:00-05:00",
          "2025-02-05T00:00:00-05:00",
          "2025-02-06T00:00:00-05:00",
          "2025-02-07T00:00:00-05:00",
          "2025-02-10T00:00:00-05:00",
          "2025-02-11T00:00:00-05:00",
          "2025-02-12T00:00:00-05:00",
          "2025-02-13T00:00:00-05:00",
          "2025-02-14T00:00:00-05:00",
          "2025-02-18T00:00:00-05:00",
          "2025-02-19T00:00:00-05:00",
          "2025-02-20T00:00:00-05:00",
          "2025-02-21T00:00:00-05:00",
          "2025-02-24T00:00:00-05:00",
          "2025-02-25T00:00:00-05:00",
          "2025-02-26T00:00:00-05:00",
          "2025-02-27T00:00:00-05:00",
          "2025-02-28T00:00:00-05:00",
          "2025-03-03T00:00:00-05:00",
          "2025-03-04T00:00:00-05:00",
          "2025-03-05T00:00:00-05:00",
          "2025-03-06T00:00:00-05:00",
          "2025-03-07T00:00:00-05:00",
          "2025-03-10T00:00:00-04:00",
          "2025-03-11T00:00:00-04:00",
          "2025-03-12T00:00:00-04:00",
          "2025-03-13T00:00:00-04:00",
          "2025-03-14T00:00:00-04:00",
          "2025-03-17T00:00:00-04:00",
          "2025-03-18T00:00:00-04:00",
          "2025-03-19T00:00:00-04:00",
          "2025-03-20T00:00:00-04:00",
          "2025-03-21T00:00:00-04:00",
          "2025-03-24T00:00:00-04:00",
          "2025-03-25T00:00:00-04:00",
          "2025-03-26T00:00:00-04:00",
          "2025-03-27T00:00:00-04:00",
          "2025-03-28T00:00:00-04:00",
          "2025-03-31T00:00:00-04:00",
          "2025-04-01T00:00:00-04:00",
          "2025-04-02T00:00:00-04:00",
          "2025-04-03T00:00:00-04:00",
          "2025-04-04T00:00:00-04:00",
          "2025-04-07T00:00:00-04:00",
          "2025-04-08T00:00:00-04:00",
          "2025-04-09T00:00:00-04:00",
          "2025-04-10T00:00:00-04:00",
          "2025-04-11T00:00:00-04:00",
          "2025-04-14T00:00:00-04:00",
          "2025-04-15T00:00:00-04:00",
          "2025-04-16T00:00:00-04:00",
          "2025-04-17T00:00:00-04:00",
          "2025-04-21T00:00:00-04:00",
          "2025-04-22T00:00:00-04:00",
          "2025-04-23T00:00:00-04:00",
          "2025-04-24T00:00:00-04:00",
          "2025-04-25T00:00:00-04:00",
          "2025-04-28T00:00:00-04:00",
          "2025-04-29T00:00:00-04:00",
          "2025-04-30T00:00:00-04:00",
          "2025-05-01T00:00:00-04:00",
          "2025-05-02T00:00:00-04:00",
          "2025-05-05T00:00:00-04:00",
          "2025-05-06T00:00:00-04:00",
          "2025-05-07T00:00:00-04:00",
          "2025-05-08T00:00:00-04:00",
          "2025-05-09T00:00:00-04:00",
          "2025-05-12T00:00:00-04:00",
          "2025-05-13T00:00:00-04:00",
          "2025-05-14T00:00:00-04:00",
          "2025-05-15T00:00:00-04:00",
          "2025-05-16T00:00:00-04:00",
          "2025-05-19T00:00:00-04:00",
          "2025-05-20T00:00:00-04:00",
          "2025-05-21T00:00:00-04:00",
          "2025-05-22T00:00:00-04:00",
          "2025-05-23T00:00:00-04:00",
          "2025-05-27T00:00:00-04:00",
          "2025-05-28T00:00:00-04:00",
          "2025-05-29T00:00:00-04:00",
          "2025-05-30T00:00:00-04:00",
          "2025-06-02T00:00:00-04:00",
          "2025-06-03T00:00:00-04:00",
          "2025-06-04T00:00:00-04:00",
          "2025-06-05T00:00:00-04:00",
          "2025-06-06T00:00:00-04:00",
          "2025-06-09T00:00:00-04:00",
          "2025-06-10T00:00:00-04:00",
          "2025-06-11T00:00:00-04:00",
          "2025-06-12T00:00:00-04:00",
          "2025-06-13T00:00:00-04:00",
          "2025-06-16T00:00:00-04:00",
          "2025-06-17T00:00:00-04:00",
          "2025-06-18T00:00:00-04:00",
          "2025-06-20T00:00:00-04:00",
          "2025-06-23T00:00:00-04:00",
          "2025-06-24T00:00:00-04:00",
          "2025-06-25T00:00:00-04:00",
          "2025-06-26T00:00:00-04:00",
          "2025-06-27T00:00:00-04:00",
          "2025-06-30T00:00:00-04:00",
          "2025-07-01T00:00:00-04:00",
          "2025-07-02T00:00:00-04:00",
          "2025-07-03T00:00:00-04:00",
          "2025-07-07T00:00:00-04:00",
          "2025-07-08T00:00:00-04:00",
          "2025-07-09T00:00:00-04:00",
          "2025-07-10T00:00:00-04:00",
          "2025-07-11T00:00:00-04:00",
          "2025-07-14T00:00:00-04:00",
          "2025-07-15T00:00:00-04:00"
         ],
         "xaxis": "x3",
         "y": {
          "bdata": "AAAAAAAA+H8AAAAAAAD4fwAAAAAAAPh/AAAAAAAA+H8AAAAAAAD4fwAAAAAAAPh/AAAAAAAA+H8AAAAAAAD4fwAAAAAAAPh/AAAAAAAA+H8AAAAAAAD4fwAAAAAAAPh/AAAAAAAA+H8AAAAAAAD4fwAAAAAAAPh/MQswAAlcNUCUBYwpOk5EQBMNGn0g909AY6IvlunxU0CpwuiNMulSQAsXqy2FTk1AxDK239ErR0DvEJJKmw5FQOVCzUkgLkhAUJHPusEURUBdXKoKQStCQNHiLYOvSUFA8La5xG6BRkArUwEEmlxOQMNcJifn51JAYTYvi+I0VUBRK+6dZFlWQB+az/XH01ZAKDc4AL+nVkBVFlxOSM1WQETN8uijJ1ZAq/7pq5zJU0CFOCoayKtPQMiz0GfT2EtAM73Rz/W1SUDRSrgcFhJHQB2edBTEl0FAg2OpJ//gPUBocTJtRwRCQCGMsSyeyz1A16LQIWV5N0Df9uPfCEojQHFc/qYkyhlATU7xKxIsHEBu3knnhVEkQDEBrP4lSCpA97pmg6TsLkDRkBEbMmIvQBBh42VzqDVAhPusVO+5O0DXVa/UJPZCQNTKdoLrnERAT+I7wrOoR0AFiv76PPhIQNvVIlaNoE9AdIGrax5WUkD5xByVvz1VQDjTRDANhE5A5fPbLtCmQECgClHU1wogQL9ZcMUTFR1AxYKdzC7hN0BnPvj/VfE/QL2Ga8JKk0dAzEUA+oOoSEAI6Lmweh9MQNvvDXhZ+kpAM7r/BXxXSUCx8leGq71GQKi1I+WUbEhA9fxzigC1TUBPENcpXsBSQJXYBCgA2FVAKfSV3iXmVkB765Gu5GpXQJWmVxzC0VdAEHbtr5f9V0B44whYpj1VQOj6f55/QlBAELQM7h5wRkBX2fNTME9AQEtSaiEZuz5ANUYc3ZhEO0B3ssA0ZjtHQF2QcUHG1VBAdRbTWUxXVkCYrF2ydplWQCDjgowL8lVA4PGJxyeOVEAgUoBIAcJSQAz4Y5IBc05A7y+gv4C+SED4WBm1KmQ/QMj5aJgKZjxAgBb8bzprOkBSQqprK69AQKCqqqqq9UBATFVVVVUAQkD8/////7NEQKWqqqpqsEZA5fqJVpY8RkCM8PQysCJJQO9xOaDiAUpAg16GFLcOT0ABe/P++BxLQINr9m4auklAbwzYMxU4P0C1UMovBPI5QBxPdi0PjChASTcVLsXQLEAwCmngdoA3QGlCHScAskRASJbXFvM+SkA7bE49SktLQEPjJxgKvkpAPZDndmMaTEAT9h/KxN5PQKU4i23mcFJAa7n5QRrIVUB91Nf/qtBWQJf2w0rqpVVAvdDTDembU0B0GjRPlxJSQLggKxoE51JA3dS+o9LnUkDUntjcUixRQMlgWFHyo05A",
          "dtype": "f8"
         },
         "yaxis": "y3"
        },
        {
         "name": "%R",
         "type": "scatter",
         "x": [
          "2025-01-02T00:00:00-05:00",
          "2025-01-03T00:00:00-05:00",
          "2025-01-06T00:00:00-05:00",
          "2025-01-07T00:00:00-05:00",
          "2025-01-08T00:00:00-05:00",
          "2025-01-10T00:00:00-05:00",
          "2025-01-13T00:00:00-05:00",
          "2025-01-14T00:00:00-05:00",
          "2025-01-15T00:00:00-05:00",
          "2025-01-16T00:00:00-05:00",
          "2025-01-17T00:00:00-05:00",
          "2025-01-21T00:00:00-05:00",
          "2025-01-22T00:00:00-05:00",
          "2025-01-23T00:00:00-05:00",
          "2025-01-24T00:00:00-05:00",
          "2025-01-27T00:00:00-05:00",
          "2025-01-28T00:00:00-05:00",
          "2025-01-29T00:00:00-05:00",
          "2025-01-30T00:00:00-05:00",
          "2025-01-31T00:00:00-05:00",
          "2025-02-03T00:00:00-05:00",
          "2025-02-04T00:00:00-05:00",
          "2025-02-05T00:00:00-05:00",
          "2025-02-06T00:00:00-05:00",
          "2025-02-07T00:00:00-05:00",
          "2025-02-10T00:00:00-05:00",
          "2025-02-11T00:00:00-05:00",
          "2025-02-12T00:00:00-05:00",
          "2025-02-13T00:00:00-05:00",
          "2025-02-14T00:00:00-05:00",
          "2025-02-18T00:00:00-05:00",
          "2025-02-19T00:00:00-05:00",
          "2025-02-20T00:00:00-05:00",
          "2025-02-21T00:00:00-05:00",
          "2025-02-24T00:00:00-05:00",
          "2025-02-25T00:00:00-05:00",
          "2025-02-26T00:00:00-05:00",
          "2025-02-27T00:00:00-05:00",
          "2025-02-28T00:00:00-05:00",
          "2025-03-03T00:00:00-05:00",
          "2025-03-04T00:00:00-05:00",
          "2025-03-05T00:00:00-05:00",
          "2025-03-06T00:00:00-05:00",
          "2025-03-07T00:00:00-05:00",
          "2025-03-10T00:00:00-04:00",
          "2025-03-11T00:00:00-04:00",
          "2025-03-12T00:00:00-04:00",
          "2025-03-13T00:00:00-04:00",
          "2025-03-14T00:00:00-04:00",
          "2025-03-17T00:00:00-04:00",
          "2025-03-18T00:00:00-04:00",
          "2025-03-19T00:00:00-04:00",
          "2025-03-20T00:00:00-04:00",
          "2025-03-21T00:00:00-04:00",
          "2025-03-24T00:00:00-04:00",
          "2025-03-25T00:00:00-04:00",
          "2025-03-26T00:00:00-04:00",
          "2025-03-27T00:00:00-04:00",
          "2025-03-28T00:00:00-04:00",
          "2025-03-31T00:00:00-04:00",
          "2025-04-01T00:00:00-04:00",
          "2025-04-02T00:00:00-04:00",
          "2025-04-03T00:00:00-04:00",
          "2025-04-04T00:00:00-04:00",
          "2025-04-07T00:00:00-04:00",
          "2025-04-08T00:00:00-04:00",
          "2025-04-09T00:00:00-04:00",
          "2025-04-10T00:00:00-04:00",
          "2025-04-11T00:00:00-04:00",
          "2025-04-14T00:00:00-04:00",
          "2025-04-15T00:00:00-04:00",
          "2025-04-16T00:00:00-04:00",
          "2025-04-17T00:00:00-04:00",
          "2025-04-21T00:00:00-04:00",
          "2025-04-22T00:00:00-04:00",
          "2025-04-23T00:00:00-04:00",
          "2025-04-24T00:00:00-04:00",
          "2025-04-25T00:00:00-04:00",
          "2025-04-28T00:00:00-04:00",
          "2025-04-29T00:00:00-04:00",
          "2025-04-30T00:00:00-04:00",
          "2025-05-01T00:00:00-04:00",
          "2025-05-02T00:00:00-04:00",
          "2025-05-05T00:00:00-04:00",
          "2025-05-06T00:00:00-04:00",
          "2025-05-07T00:00:00-04:00",
          "2025-05-08T00:00:00-04:00",
          "2025-05-09T00:00:00-04:00",
          "2025-05-12T00:00:00-04:00",
          "2025-05-13T00:00:00-04:00",
          "2025-05-14T00:00:00-04:00",
          "2025-05-15T00:00:00-04:00",
          "2025-05-16T00:00:00-04:00",
          "2025-05-19T00:00:00-04:00",
          "2025-05-20T00:00:00-04:00",
          "2025-05-21T00:00:00-04:00",
          "2025-05-22T00:00:00-04:00",
          "2025-05-23T00:00:00-04:00",
          "2025-05-27T00:00:00-04:00",
          "2025-05-28T00:00:00-04:00",
          "2025-05-29T00:00:00-04:00",
          "2025-05-30T00:00:00-04:00",
          "2025-06-02T00:00:00-04:00",
          "2025-06-03T00:00:00-04:00",
          "2025-06-04T00:00:00-04:00",
          "2025-06-05T00:00:00-04:00",
          "2025-06-06T00:00:00-04:00",
          "2025-06-09T00:00:00-04:00",
          "2025-06-10T00:00:00-04:00",
          "2025-06-11T00:00:00-04:00",
          "2025-06-12T00:00:00-04:00",
          "2025-06-13T00:00:00-04:00",
          "2025-06-16T00:00:00-04:00",
          "2025-06-17T00:00:00-04:00",
          "2025-06-18T00:00:00-04:00",
          "2025-06-20T00:00:00-04:00",
          "2025-06-23T00:00:00-04:00",
          "2025-06-24T00:00:00-04:00",
          "2025-06-25T00:00:00-04:00",
          "2025-06-26T00:00:00-04:00",
          "2025-06-27T00:00:00-04:00",
          "2025-06-30T00:00:00-04:00",
          "2025-07-01T00:00:00-04:00",
          "2025-07-02T00:00:00-04:00",
          "2025-07-03T00:00:00-04:00",
          "2025-07-07T00:00:00-04:00",
          "2025-07-08T00:00:00-04:00",
          "2025-07-09T00:00:00-04:00",
          "2025-07-10T00:00:00-04:00",
          "2025-07-11T00:00:00-04:00",
          "2025-07-14T00:00:00-04:00",
          "2025-07-15T00:00:00-04:00"
         ],
         "xaxis": "x4",
         "y": {
          "bdata": "AAAAAAAA+H8AAAAAAAD4fwAAAAAAAPh/AAAAAAAA+H8AAAAAAAD4fwAAAAAAAPh/AAAAAAAA+H8AAAAAAAD4fwAAAAAAAPh/AAAAAAAA+H8AAAAAAAD4fwAAAAAAAPh/AAAAAAAA+H/M0fpLUGZVwLIZisjO9VXAOBiuVrQ9T8BPRzM3/9c7wM851CzV4THAg8R5I3HeLcD+4ULNSSBEwOGzbjBFPlHA9B29MrbfScB+R6+M7XdKwN7RK2P7HUnAWhnb7+iVUcArc4/ON5pRwIM+ofmvwkvAVLYSG5SEQ8BQI5C+20U3wMgt/GpMpCXAg3J2C7/aJsARUDm7hR8jwBeVs1v4VRTAlbmnEZb7KsDzx7jPTDUfwAqkuK9lsinA/MWe8hDzRMByZ/RS/ZxLwDi3+oJ35UHAu6mbuqlbS8BMXyA2TsRRwKre4s02KlHAaLc9nruoUcCmfyfgRE1KwKxfKVDr11XAYWZmZmZmVsBgvXr16oVXwOsqz8THPVjACNl43Qn0VcCmSPwmnC9VwOJdCrxLAVbAXdOya1o2VMB0OBwOhwNVwGVrxvnHh1HACz838XpST8Cp6C2dhrtKwNN3Nuo7G07AmvjnMSIvRsCG8eXy6sxGwKcok7GVRDTAtsUtuU4wLMCwcfnoj3wlwD/cU2NQBFfAtQdDWeVRWMARuMpTuaVVwGgv7Z1tlFfA6eyj6eu5R8CvVo3aNzNPwDAojPT7WEjAvq/lQkB6RMD8b2C2U85EwLcQkJ5fyEvAuFAQmdhiScCAxlc1xZtMwNbHLIKju0bAl/U+UisTM8ANbqVmR+IkwKtYaDRetyDA5arGDZulGcDFfAzOx+AQwCw5e6dvSgzAsMOvYY9tEcAm/xwJwZtCwPQmrVOPp0/A3d6HbCk2UMCox7NrRn9SwMSbtE49PlHA7mfCnwnPUsB0wp8Jf2YwwOVlD5g9YBnAHq3utLpTIsCxcUHGBZkqwD6WilgqYizAiKUilorYOcDqGsprKG9BwCqq+JGNS0zAHqtcw8cJTsChUoJNNUpWwHqcgN5eZFDABQAAAACBUMAFAAAA4BNRwAYAAABA9U/ACwAAAADiTcD7////vwxKwAsAAAAAAErASg9i/Hw9T8AIH79qclpBwOB7MrhoYkfAj0l7n/8WQMCLyXerrC9NwFmqKWgEi0vAuTxNj5c4V8CQMcYYY4xSwAs04KZ/BljAqaURT9OeVcBRvX7Dp3RHwCQwBimxN0XAtE/0zs2WSsB4OxpQok9EwA3LeZhx30bAw0i1ssGBRsDzE+Ks/AQywKRlWZZlWS/A6iDywFW0E8BDPOMZz3gWwKkZG0i7rT3AZU5+SyRlPcCEWvW1CA44wG3OhsShuDPAttyR2HVbPcB58V8EA2xGwND9TRtr+kTA",
          "dtype": "f8"
         },
         "yaxis": "y4"
        },
        {
         "name": "CCI",
         "type": "scatter",
         "x": [
          "2025-01-02T00:00:00-05:00",
          "2025-01-03T00:00:00-05:00",
          "2025-01-06T00:00:00-05:00",
          "2025-01-07T00:00:00-05:00",
          "2025-01-08T00:00:00-05:00",
          "2025-01-10T00:00:00-05:00",
          "2025-01-13T00:00:00-05:00",
          "2025-01-14T00:00:00-05:00",
          "2025-01-15T00:00:00-05:00",
          "2025-01-16T00:00:00-05:00",
          "2025-01-17T00:00:00-05:00",
          "2025-01-21T00:00:00-05:00",
          "2025-01-22T00:00:00-05:00",
          "2025-01-23T00:00:00-05:00",
          "2025-01-24T00:00:00-05:00",
          "2025-01-27T00:00:00-05:00",
          "2025-01-28T00:00:00-05:00",
          "2025-01-29T00:00:00-05:00",
          "2025-01-30T00:00:00-05:00",
          "2025-01-31T00:00:00-05:00",
          "2025-02-03T00:00:00-05:00",
          "2025-02-04T00:00:00-05:00",
          "2025-02-05T00:00:00-05:00",
          "2025-02-06T00:00:00-05:00",
          "2025-02-07T00:00:00-05:00",
          "2025-02-10T00:00:00-05:00",
          "2025-02-11T00:00:00-05:00",
          "2025-02-12T00:00:00-05:00",
          "2025-02-13T00:00:00-05:00",
          "2025-02-14T00:00:00-05:00",
          "2025-02-18T00:00:00-05:00",
          "2025-02-19T00:00:00-05:00",
          "2025-02-20T00:00:00-05:00",
          "2025-02-21T00:00:00-05:00",
          "2025-02-24T00:00:00-05:00",
          "2025-02-25T00:00:00-05:00",
          "2025-02-26T00:00:00-05:00",
          "2025-02-27T00:00:00-05:00",
          "2025-02-28T00:00:00-05:00",
          "2025-03-03T00:00:00-05:00",
          "2025-03-04T00:00:00-05:00",
          "2025-03-05T00:00:00-05:00",
          "2025-03-06T00:00:00-05:00",
          "2025-03-07T00:00:00-05:00",
          "2025-03-10T00:00:00-04:00",
          "2025-03-11T00:00:00-04:00",
          "2025-03-12T00:00:00-04:00",
          "2025-03-13T00:00:00-04:00",
          "2025-03-14T00:00:00-04:00",
          "2025-03-17T00:00:00-04:00",
          "2025-03-18T00:00:00-04:00",
          "2025-03-19T00:00:00-04:00",
          "2025-03-20T00:00:00-04:00",
          "2025-03-21T00:00:00-04:00",
          "2025-03-24T00:00:00-04:00",
          "2025-03-25T00:00:00-04:00",
          "2025-03-26T00:00:00-04:00",
          "2025-03-27T00:00:00-04:00",
          "2025-03-28T00:00:00-04:00",
          "2025-03-31T00:00:00-04:00",
          "2025-04-01T00:00:00-04:00",
          "2025-04-02T00:00:00-04:00",
          "2025-04-03T00:00:00-04:00",
          "2025-04-04T00:00:00-04:00",
          "2025-04-07T00:00:00-04:00",
          "2025-04-08T00:00:00-04:00",
          "2025-04-09T00:00:00-04:00",
          "2025-04-10T00:00:00-04:00",
          "2025-04-11T00:00:00-04:00",
          "2025-04-14T00:00:00-04:00",
          "2025-04-15T00:00:00-04:00",
          "2025-04-16T00:00:00-04:00",
          "2025-04-17T00:00:00-04:00",
          "2025-04-21T00:00:00-04:00",
          "2025-04-22T00:00:00-04:00",
          "2025-04-23T00:00:00-04:00",
          "2025-04-24T00:00:00-04:00",
          "2025-04-25T00:00:00-04:00",
          "2025-04-28T00:00:00-04:00",
          "2025-04-29T00:00:00-04:00",
          "2025-04-30T00:00:00-04:00",
          "2025-05-01T00:00:00-04:00",
          "2025-05-02T00:00:00-04:00",
          "2025-05-05T00:00:00-04:00",
          "2025-05-06T00:00:00-04:00",
          "2025-05-07T00:00:00-04:00",
          "2025-05-08T00:00:00-04:00",
          "2025-05-09T00:00:00-04:00",
          "2025-05-12T00:00:00-04:00",
          "2025-05-13T00:00:00-04:00",
          "2025-05-14T00:00:00-04:00",
          "2025-05-15T00:00:00-04:00",
          "2025-05-16T00:00:00-04:00",
          "2025-05-19T00:00:00-04:00",
          "2025-05-20T00:00:00-04:00",
          "2025-05-21T00:00:00-04:00",
          "2025-05-22T00:00:00-04:00",
          "2025-05-23T00:00:00-04:00",
          "2025-05-27T00:00:00-04:00",
          "2025-05-28T00:00:00-04:00",
          "2025-05-29T00:00:00-04:00",
          "2025-05-30T00:00:00-04:00",
          "2025-06-02T00:00:00-04:00",
          "2025-06-03T00:00:00-04:00",
          "2025-06-04T00:00:00-04:00",
          "2025-06-05T00:00:00-04:00",
          "2025-06-06T00:00:00-04:00",
          "2025-06-09T00:00:00-04:00",
          "2025-06-10T00:00:00-04:00",
          "2025-06-11T00:00:00-04:00",
          "2025-06-12T00:00:00-04:00",
          "2025-06-13T00:00:00-04:00",
          "2025-06-16T00:00:00-04:00",
          "2025-06-17T00:00:00-04:00",
          "2025-06-18T00:00:00-04:00",
          "2025-06-20T00:00:00-04:00",
          "2025-06-23T00:00:00-04:00",
          "2025-06-24T00:00:00-04:00",
          "2025-06-25T00:00:00-04:00",
          "2025-06-26T00:00:00-04:00",
          "2025-06-27T00:00:00-04:00",
          "2025-06-30T00:00:00-04:00",
          "2025-07-01T00:00:00-04:00",
          "2025-07-02T00:00:00-04:00",
          "2025-07-03T00:00:00-04:00",
          "2025-07-07T00:00:00-04:00",
          "2025-07-08T00:00:00-04:00",
          "2025-07-09T00:00:00-04:00",
          "2025-07-10T00:00:00-04:00",
          "2025-07-11T00:00:00-04:00",
          "2025-07-14T00:00:00-04:00",
          "2025-07-15T00:00:00-04:00"
         ],
         "xaxis": "x5",
         "y": {
          "bdata": "AAAAAAAA+H8AAAAAAAD4fwAAAAAAAPh/AAAAAAAA+H8AAAAAAAD4fwAAAAAAAPh/AAAAAAAA+H8AAAAAAAD4fwAAAAAAAPh/AAAAAAAA+H8AAAAAAAD4fwAAAAAAAPh/AAAAAAAA+H8AAAAAAAD4fwAAAAAAAPh/AAAAAAAA+H8AAAAAAAD4fwAAAAAAAPh/AAAAAAAA+H8AAAAAAAD4fwAAAAAAAPh/AAAAAAAA+H8AAAAAAAD4fwAAAAAAAPh/AAAAAAAA+H8AAAAAAAD4fwAAAAAAAPh/AAAAAAAA+H8AAAAAAAD4fwAAAAAAAPh/AAAAAAAA+H8AAAAAAAD4fwAAAAAAAPh/AAAAAAAA+H8AAAAAAAD4fwAAAAAAAPh/AAAAAAAA+H8AAAAAAAD4f94TzlTYbea/p/VbIjlLLkAAI+zYCQY1wEnvyxqs8k3AcTe9eccWRcC18WRAStckwGGHQ4zeylvA1okaV+umZcB/Z62CDv9lwCem8gA9JWjA5kfI0DN/ZMBequXjna9hwA3Wiz7feF/A5iQxH9coWMDvs4vq9lhXwBzy0muNhVLAY5+TGMl3RMCErCbV+sUywEHqwxMUOi3AUiPSZvAOEcCuNw1L8dkzwPXb8Wa3sBDAvJmE/uUvEkC3UtLlD4UxQJNtfMiTg1fALoIXzMlmYcCdOJwPFPBjwOdaAxWmBGXAibm+KWGZWMCZMAYvHflYwGR9CMhxJFLAG5ruXnhgMMAuhOqYwLhBwF70x74UXVDAcXxrTBkBTMBPnp1avuBSwJIEmhJsiTzARgIXtcEzKkDX2q/uXBk7QJT6tDmgQURAN04Hg2zYSECqLW9lrc9LQD6e9mqk7kxASbnBsChLUEByDSM6Rak8QF9bGjZsEA1AgMOyO7DgJ8BnJIsLXgdEwLEXT00+5kLAgFDcClJ4QMC7SYyqhkBRQEzZsCECClVAlX1a7AqZVECYwMsTvuxQQG4oR5lsZE5AGvq9eT4CMUBNkxH00VsTQKRGZj9wFkHAW1r5nE3+SsAzG+3pq3JbwH8ROjQA8E7Aq9IQSlSeRMAkmxpyn61EwFTscjSD2EjAV8TLnH6aO8AnL8uwQrIiwCCp0w6b9gNA630s4BqRP8Cbs/l4wV8TwMoFh/mQ4T/Apm10Gd8LO8APEsZ4+HxMwEvt85k0SFXAM5lIqTsUWcBSTjpDfilUwGb1T+3ONFjAO9g/tVxDVMApgjy6yVAcwPom4wAjPTFANieS3I4pN0AgJo1B4S9EQKPB/lh4bCxA/orRh3xQO0Deo08CRVVaQNiqFAk3zWlA9YNcPVA1bkDPqTXkCARtQOG/0AIPHmVAVdlOvb8YXkBa2Ib6YKBaQPRtG+Pojl5A4uv8ZPEnWEBSXwDMoTtOQOkMFWelRFBA",
          "dtype": "f8"
         },
         "yaxis": "y5"
        }
       ],
       "layout": {
        "annotations": [
         {
          "font": {
           "size": 16
          },
          "showarrow": false,
          "text": "yfinance.Ticker object <AAPL> Price",
          "x": 0.5,
          "xanchor": "center",
          "xref": "paper",
          "y": 1,
          "yanchor": "bottom",
          "yref": "paper"
         },
         {
          "font": {
           "size": 16
          },
          "showarrow": false,
          "text": "RSI",
          "x": 0.5,
          "xanchor": "center",
          "xref": "paper",
          "y": 0.6120000000000001,
          "yanchor": "bottom",
          "yref": "paper"
         },
         {
          "font": {
           "size": 16
          },
          "showarrow": false,
          "text": "Stochastic Oscillator (%K and %D)",
          "x": 0.5,
          "xanchor": "center",
          "xref": "paper",
          "y": 0.454,
          "yanchor": "bottom",
          "yref": "paper"
         },
         {
          "font": {
           "size": 16
          },
          "showarrow": false,
          "text": "Williams %R",
          "x": 0.5,
          "xanchor": "center",
          "xref": "paper",
          "y": 0.29600000000000004,
          "yanchor": "bottom",
          "yref": "paper"
         },
         {
          "font": {
           "size": 16
          },
          "showarrow": false,
          "text": "CCI",
          "x": 0.5,
          "xanchor": "center",
          "xref": "paper",
          "y": 0.138,
          "yanchor": "bottom",
          "yref": "paper"
         }
        ],
        "height": 1200,
        "legend": {
         "title": {
          "text": "Lines"
         }
        },
        "shapes": [
         {
          "line": {
           "color": "red",
           "dash": "dash"
          },
          "type": "line",
          "x0": 0,
          "x1": 1,
          "xref": "x2 domain",
          "y0": 70,
          "y1": 70,
          "yref": "y2"
         },
         {
          "line": {
           "color": "green",
           "dash": "dash"
          },
          "type": "line",
          "x0": 0,
          "x1": 1,
          "xref": "x2 domain",
          "y0": 30,
          "y1": 30,
          "yref": "y2"
         },
         {
          "line": {
           "color": "red",
           "dash": "dash"
          },
          "type": "line",
          "x0": 0,
          "x1": 1,
          "xref": "x3 domain",
          "y0": 80,
          "y1": 80,
          "yref": "y3"
         },
         {
          "line": {
           "color": "green",
           "dash": "dash"
          },
          "type": "line",
          "x0": 0,
          "x1": 1,
          "xref": "x3 domain",
          "y0": 20,
          "y1": 20,
          "yref": "y3"
         },
         {
          "line": {
           "color": "red",
           "dash": "dash"
          },
          "type": "line",
          "x0": 0,
          "x1": 1,
          "xref": "x4 domain",
          "y0": -20,
          "y1": -20,
          "yref": "y4"
         },
         {
          "line": {
           "color": "green",
           "dash": "dash"
          },
          "type": "line",
          "x0": 0,
          "x1": 1,
          "xref": "x4 domain",
          "y0": -80,
          "y1": -80,
          "yref": "y4"
         },
         {
          "line": {
           "color": "red",
           "dash": "dash"
          },
          "type": "line",
          "x0": 0,
          "x1": 1,
          "xref": "x5 domain",
          "y0": 100,
          "y1": 100,
          "yref": "y5"
         },
         {
          "line": {
           "color": "green",
           "dash": "dash"
          },
          "type": "line",
          "x0": 0,
          "x1": 1,
          "xref": "x5 domain",
          "y0": -100,
          "y1": -100,
          "yref": "y5"
         }
        ],
        "template": {
         "data": {
          "bar": [
           {
            "error_x": {
             "color": "#2a3f5f"
            },
            "error_y": {
             "color": "#2a3f5f"
            },
            "marker": {
             "line": {
              "color": "#E5ECF6",
              "width": 0.5
             },
             "pattern": {
              "fillmode": "overlay",
              "size": 10,
              "solidity": 0.2
             }
            },
            "type": "bar"
           }
          ],
          "barpolar": [
           {
            "marker": {
             "line": {
              "color": "#E5ECF6",
              "width": 0.5
             },
             "pattern": {
              "fillmode": "overlay",
              "size": 10,
              "solidity": 0.2
             }
            },
            "type": "barpolar"
           }
          ],
          "carpet": [
           {
            "aaxis": {
             "endlinecolor": "#2a3f5f",
             "gridcolor": "white",
             "linecolor": "white",
             "minorgridcolor": "white",
             "startlinecolor": "#2a3f5f"
            },
            "baxis": {
             "endlinecolor": "#2a3f5f",
             "gridcolor": "white",
             "linecolor": "white",
             "minorgridcolor": "white",
             "startlinecolor": "#2a3f5f"
            },
            "type": "carpet"
           }
          ],
          "choropleth": [
           {
            "colorbar": {
             "outlinewidth": 0,
             "ticks": ""
            },
            "type": "choropleth"
           }
          ],
          "contour": [
           {
            "colorbar": {
             "outlinewidth": 0,
             "ticks": ""
            },
            "colorscale": [
             [
              0,
              "#0d0887"
             ],
             [
              0.1111111111111111,
              "#46039f"
             ],
             [
              0.2222222222222222,
              "#7201a8"
             ],
             [
              0.3333333333333333,
              "#9c179e"
             ],
             [
              0.4444444444444444,
              "#bd3786"
             ],
             [
              0.5555555555555556,
              "#d8576b"
             ],
             [
              0.6666666666666666,
              "#ed7953"
             ],
             [
              0.7777777777777778,
              "#fb9f3a"
             ],
             [
              0.8888888888888888,
              "#fdca26"
             ],
             [
              1,
              "#f0f921"
             ]
            ],
            "type": "contour"
           }
          ],
          "contourcarpet": [
           {
            "colorbar": {
             "outlinewidth": 0,
             "ticks": ""
            },
            "type": "contourcarpet"
           }
          ],
          "heatmap": [
           {
            "colorbar": {
             "outlinewidth": 0,
             "ticks": ""
            },
            "colorscale": [
             [
              0,
              "#0d0887"
             ],
             [
              0.1111111111111111,
              "#46039f"
             ],
             [
              0.2222222222222222,
              "#7201a8"
             ],
             [
              0.3333333333333333,
              "#9c179e"
             ],
             [
              0.4444444444444444,
              "#bd3786"
             ],
             [
              0.5555555555555556,
              "#d8576b"
             ],
             [
              0.6666666666666666,
              "#ed7953"
             ],
             [
              0.7777777777777778,
              "#fb9f3a"
             ],
             [
              0.8888888888888888,
              "#fdca26"
             ],
             [
              1,
              "#f0f921"
             ]
            ],
            "type": "heatmap"
           }
          ],
          "histogram": [
           {
            "marker": {
             "pattern": {
              "fillmode": "overlay",
              "size": 10,
              "solidity": 0.2
             }
            },
            "type": "histogram"
           }
          ],
          "histogram2d": [
           {
            "colorbar": {
             "outlinewidth": 0,
             "ticks": ""
            },
            "colorscale": [
             [
              0,
              "#0d0887"
             ],
             [
              0.1111111111111111,
              "#46039f"
             ],
             [
              0.2222222222222222,
              "#7201a8"
             ],
             [
              0.3333333333333333,
              "#9c179e"
             ],
             [
              0.4444444444444444,
              "#bd3786"
             ],
             [
              0.5555555555555556,
              "#d8576b"
             ],
             [
              0.6666666666666666,
              "#ed7953"
             ],
             [
              0.7777777777777778,
              "#fb9f3a"
             ],
             [
              0.8888888888888888,
              "#fdca26"
             ],
             [
              1,
              "#f0f921"
             ]
            ],
            "type": "histogram2d"
           }
          ],
          "histogram2dcontour": [
           {
            "colorbar": {
             "outlinewidth": 0,
             "ticks": ""
            },
            "colorscale": [
             [
              0,
              "#0d0887"
             ],
             [
              0.1111111111111111,
              "#46039f"
             ],
             [
              0.2222222222222222,
              "#7201a8"
             ],
             [
              0.3333333333333333,
              "#9c179e"
             ],
             [
              0.4444444444444444,
              "#bd3786"
             ],
             [
              0.5555555555555556,
              "#d8576b"
             ],
             [
              0.6666666666666666,
              "#ed7953"
             ],
             [
              0.7777777777777778,
              "#fb9f3a"
             ],
             [
              0.8888888888888888,
              "#fdca26"
             ],
             [
              1,
              "#f0f921"
             ]
            ],
            "type": "histogram2dcontour"
           }
          ],
          "mesh3d": [
           {
            "colorbar": {
             "outlinewidth": 0,
             "ticks": ""
            },
            "type": "mesh3d"
           }
          ],
          "parcoords": [
           {
            "line": {
             "colorbar": {
              "outlinewidth": 0,
              "ticks": ""
             }
            },
            "type": "parcoords"
           }
          ],
          "pie": [
           {
            "automargin": true,
            "type": "pie"
           }
          ],
          "scatter": [
           {
            "fillpattern": {
             "fillmode": "overlay",
             "size": 10,
             "solidity": 0.2
            },
            "type": "scatter"
           }
          ],
          "scatter3d": [
           {
            "line": {
             "colorbar": {
              "outlinewidth": 0,
              "ticks": ""
             }
            },
            "marker": {
             "colorbar": {
              "outlinewidth": 0,
              "ticks": ""
             }
            },
            "type": "scatter3d"
           }
          ],
          "scattercarpet": [
           {
            "marker": {
             "colorbar": {
              "outlinewidth": 0,
              "ticks": ""
             }
            },
            "type": "scattercarpet"
           }
          ],
          "scattergeo": [
           {
            "marker": {
             "colorbar": {
              "outlinewidth": 0,
              "ticks": ""
             }
            },
            "type": "scattergeo"
           }
          ],
          "scattergl": [
           {
            "marker": {
             "colorbar": {
              "outlinewidth": 0,
              "ticks": ""
             }
            },
            "type": "scattergl"
           }
          ],
          "scattermap": [
           {
            "marker": {
             "colorbar": {
              "outlinewidth": 0,
              "ticks": ""
             }
            },
            "type": "scattermap"
           }
          ],
          "scattermapbox": [
           {
            "marker": {
             "colorbar": {
              "outlinewidth": 0,
              "ticks": ""
             }
            },
            "type": "scattermapbox"
           }
          ],
          "scatterpolar": [
           {
            "marker": {
             "colorbar": {
              "outlinewidth": 0,
              "ticks": ""
             }
            },
            "type": "scatterpolar"
           }
          ],
          "scatterpolargl": [
           {
            "marker": {
             "colorbar": {
              "outlinewidth": 0,
              "ticks": ""
             }
            },
            "type": "scatterpolargl"
           }
          ],
          "scatterternary": [
           {
            "marker": {
             "colorbar": {
              "outlinewidth": 0,
              "ticks": ""
             }
            },
            "type": "scatterternary"
           }
          ],
          "surface": [
           {
            "colorbar": {
             "outlinewidth": 0,
             "ticks": ""
            },
            "colorscale": [
             [
              0,
              "#0d0887"
             ],
             [
              0.1111111111111111,
              "#46039f"
             ],
             [
              0.2222222222222222,
              "#7201a8"
             ],
             [
              0.3333333333333333,
              "#9c179e"
             ],
             [
              0.4444444444444444,
              "#bd3786"
             ],
             [
              0.5555555555555556,
              "#d8576b"
             ],
             [
              0.6666666666666666,
              "#ed7953"
             ],
             [
              0.7777777777777778,
              "#fb9f3a"
             ],
             [
              0.8888888888888888,
              "#fdca26"
             ],
             [
              1,
              "#f0f921"
             ]
            ],
            "type": "surface"
           }
          ],
          "table": [
           {
            "cells": {
             "fill": {
              "color": "#EBF0F8"
             },
             "line": {
              "color": "white"
             }
            },
            "header": {
             "fill": {
              "color": "#C8D4E3"
             },
             "line": {
              "color": "white"
             }
            },
            "type": "table"
           }
          ]
         },
         "layout": {
          "annotationdefaults": {
           "arrowcolor": "#2a3f5f",
           "arrowhead": 0,
           "arrowwidth": 1
          },
          "autotypenumbers": "strict",
          "coloraxis": {
           "colorbar": {
            "outlinewidth": 0,
            "ticks": ""
           }
          },
          "colorscale": {
           "diverging": [
            [
             0,
             "#8e0152"
            ],
            [
             0.1,
             "#c51b7d"
            ],
            [
             0.2,
             "#de77ae"
            ],
            [
             0.3,
             "#f1b6da"
            ],
            [
             0.4,
             "#fde0ef"
            ],
            [
             0.5,
             "#f7f7f7"
            ],
            [
             0.6,
             "#e6f5d0"
            ],
            [
             0.7,
             "#b8e186"
            ],
            [
             0.8,
             "#7fbc41"
            ],
            [
             0.9,
             "#4d9221"
            ],
            [
             1,
             "#276419"
            ]
           ],
           "sequential": [
            [
             0,
             "#0d0887"
            ],
            [
             0.1111111111111111,
             "#46039f"
            ],
            [
             0.2222222222222222,
             "#7201a8"
            ],
            [
             0.3333333333333333,
             "#9c179e"
            ],
            [
             0.4444444444444444,
             "#bd3786"
            ],
            [
             0.5555555555555556,
             "#d8576b"
            ],
            [
             0.6666666666666666,
             "#ed7953"
            ],
            [
             0.7777777777777778,
             "#fb9f3a"
            ],
            [
             0.8888888888888888,
             "#fdca26"
            ],
            [
             1,
             "#f0f921"
            ]
           ],
           "sequentialminus": [
            [
             0,
             "#0d0887"
            ],
            [
             0.1111111111111111,
             "#46039f"
            ],
            [
             0.2222222222222222,
             "#7201a8"
            ],
            [
             0.3333333333333333,
             "#9c179e"
            ],
            [
             0.4444444444444444,
             "#bd3786"
            ],
            [
             0.5555555555555556,
             "#d8576b"
            ],
            [
             0.6666666666666666,
             "#ed7953"
            ],
            [
             0.7777777777777778,
             "#fb9f3a"
            ],
            [
             0.8888888888888888,
             "#fdca26"
            ],
            [
             1,
             "#f0f921"
            ]
           ]
          },
          "colorway": [
           "#636efa",
           "#EF553B",
           "#00cc96",
           "#ab63fa",
           "#FFA15A",
           "#19d3f3",
           "#FF6692",
           "#B6E880",
           "#FF97FF",
           "#FECB52"
          ],
          "font": {
           "color": "#2a3f5f"
          },
          "geo": {
           "bgcolor": "white",
           "lakecolor": "white",
           "landcolor": "#E5ECF6",
           "showlakes": true,
           "showland": true,
           "subunitcolor": "white"
          },
          "hoverlabel": {
           "align": "left"
          },
          "hovermode": "closest",
          "mapbox": {
           "style": "light"
          },
          "paper_bgcolor": "white",
          "plot_bgcolor": "#E5ECF6",
          "polar": {
           "angularaxis": {
            "gridcolor": "white",
            "linecolor": "white",
            "ticks": ""
           },
           "bgcolor": "#E5ECF6",
           "radialaxis": {
            "gridcolor": "white",
            "linecolor": "white",
            "ticks": ""
           }
          },
          "scene": {
           "xaxis": {
            "backgroundcolor": "#E5ECF6",
            "gridcolor": "white",
            "gridwidth": 2,
            "linecolor": "white",
            "showbackground": true,
            "ticks": "",
            "zerolinecolor": "white"
           },
           "yaxis": {
            "backgroundcolor": "#E5ECF6",
            "gridcolor": "white",
            "gridwidth": 2,
            "linecolor": "white",
            "showbackground": true,
            "ticks": "",
            "zerolinecolor": "white"
           },
           "zaxis": {
            "backgroundcolor": "#E5ECF6",
            "gridcolor": "white",
            "gridwidth": 2,
            "linecolor": "white",
            "showbackground": true,
            "ticks": "",
            "zerolinecolor": "white"
           }
          },
          "shapedefaults": {
           "line": {
            "color": "#2a3f5f"
           }
          },
          "ternary": {
           "aaxis": {
            "gridcolor": "white",
            "linecolor": "white",
            "ticks": ""
           },
           "baxis": {
            "gridcolor": "white",
            "linecolor": "white",
            "ticks": ""
           },
           "bgcolor": "#E5ECF6",
           "caxis": {
            "gridcolor": "white",
            "linecolor": "white",
            "ticks": ""
           }
          },
          "title": {
           "x": 0.05
          },
          "xaxis": {
           "automargin": true,
           "gridcolor": "white",
           "linecolor": "white",
           "ticks": "",
           "title": {
            "standoff": 15
           },
           "zerolinecolor": "white",
           "zerolinewidth": 2
          },
          "yaxis": {
           "automargin": true,
           "gridcolor": "white",
           "linecolor": "white",
           "ticks": "",
           "title": {
            "standoff": 15
           },
           "zerolinecolor": "white",
           "zerolinewidth": 2
          }
         }
        },
        "title": {
         "text": "Momentum Oscillators Analysis"
        },
        "xaxis": {
         "anchor": "y",
         "domain": [
          0,
          1
         ],
         "matches": "x5",
         "rangeslider": {
          "visible": false
         },
         "showticklabels": false
        },
        "xaxis2": {
         "anchor": "y2",
         "domain": [
          0,
          1
         ],
         "matches": "x5",
         "rangeslider": {
          "visible": false
         },
         "showticklabels": false
        },
        "xaxis3": {
         "anchor": "y3",
         "domain": [
          0,
          1
         ],
         "matches": "x5",
         "rangeslider": {
          "visible": false
         },
         "showticklabels": false
        },
        "xaxis4": {
         "anchor": "y4",
         "domain": [
          0,
          1
         ],
         "matches": "x5",
         "rangeslider": {
          "visible": false
         },
         "showticklabels": false
        },
        "xaxis5": {
         "anchor": "y5",
         "domain": [
          0,
          1
         ],
         "rangeslider": {
          "visible": false
         }
        },
        "yaxis": {
         "anchor": "x",
         "domain": [
          0.632,
          1
         ]
        },
        "yaxis2": {
         "anchor": "x2",
         "domain": [
          0.47400000000000003,
          0.6120000000000001
         ]
        },
        "yaxis3": {
         "anchor": "x3",
         "domain": [
          0.316,
          0.454
         ]
        },
        "yaxis4": {
         "anchor": "x4",
         "domain": [
          0.158,
          0.29600000000000004
         ]
        },
        "yaxis5": {
         "anchor": "x5",
         "domain": [
          0,
          0.138
         ]
        }
       }
      }
     },
     "metadata": {},
     "output_type": "display_data"
    }
   ],
   "source": [
    "# Create subplots\n",
    "fig = make_subplots(rows=5, cols=1, shared_xaxes=True, vertical_spacing=0.02,\n",
    "                    subplot_titles=(f'{ticker} Price', 'RSI', 'Stochastic Oscillator (%K and %D)', 'Williams %R', 'CCI'),\n",
    "                    row_heights=[0.4, 0.15, 0.15, 0.15, 0.15])\n",
    "\n",
    "# Price chart\n",
    "fig.add_trace(go.Candlestick(x=data.index, open=data['Open'], high=data['High'],\n",
    "                             low=data['Low'], close=data['Close'], name='Price'), row=1, col=1)\n",
    "\n",
    "# RSI\n",
    "fig.add_trace(go.Scatter(x=data.index, y=data['RSI'], name='RSI'), row=2, col=1)\n",
    "fig.add_hline(y=70, row=2, col=1, line_dash=\"dash\", line_color=\"red\")\n",
    "fig.add_hline(y=30, row=2, col=1, line_dash=\"dash\", line_color=\"green\")\n",
    "\n",
    "# Stochastic Oscillator\n",
    "fig.add_trace(go.Scatter(x=data.index, y=data['%K'], name='%K (Fast)'), row=3, col=1)\n",
    "fig.add_trace(go.Scatter(x=data.index, y=data['%D'], name='%D (Slow)'), row=3, col=1)\n",
    "fig.add_hline(y=80, row=3, col=1, line_dash=\"dash\", line_color=\"red\")\n",
    "fig.add_hline(y=20, row=3, col=1, line_dash=\"dash\", line_color=\"green\")\n",
    "\n",
    "# Williams %R\n",
    "fig.add_trace(go.Scatter(x=data.index, y=data['%R'], name='%R'), row=4, col=1)\n",
    "fig.add_hline(y=-20, row=4, col=1, line_dash=\"dash\", line_color=\"red\")\n",
    "fig.add_hline(y=-80, row=4, col=1, line_dash=\"dash\", line_color=\"green\")\n",
    "\n",
    "# CCI\n",
    "fig.add_trace(go.Scatter(x=data.index, y=data['CCI'], name='CCI'), row=5, col=1)\n",
    "fig.add_hline(y=100, row=5, col=1, line_dash=\"dash\", line_color=\"red\")\n",
    "fig.add_hline(y=-100, row=5, col=1, line_dash=\"dash\", line_color=\"green\")\n",
    "\n",
    "\n",
    "fig.update_layout(height=1200, title_text=\"Momentum Oscillators Analysis\", legend_title_text='Lines')\n",
    "fig.update_xaxes(rangeslider_visible=False)\n",
    "fig.show()"
   ]
  },
  {
   "cell_type": "markdown",
   "id": "586a4129",
   "metadata": {},
   "source": [
    "## 8. Divergences\n",
    "\n",
    "A divergence occurs when the price of an asset is moving in the opposite direction of a technical indicator. It's a warning sign that the current price trend may be weakening, and in some cases may lead to the price changing direction.\n",
    "\n",
    "- **Bullish Divergence**: Price records a lower low, while the indicator shows a higher low. This can signal a potential upturn.\n",
    "- **Bearish Divergence**: Price records a higher high, while the indicator makes a lower high. This can signal a potential downturn.\n",
    "\n",
    "Identifying divergences programmatically can be complex and is a good topic for a more advanced notebook. For now, try to spot them visually on the chart above."
   ]
  },
  {
   "cell_type": "markdown",
   "id": "59f07ee5",
   "metadata": {},
   "source": [
    "## Conclusion\n",
    "\n",
    "In this notebook, we implemented and visualized four popular momentum oscillators. These tools are powerful for identifying overbought/oversold conditions and potential trend reversals through divergences. Remember that no single indicator is perfect, and they are best used in combination with other analysis techniques."
   ]
  }
 ],
 "metadata": {
  "kernelspec": {
   "display_name": "quant_trading_env",
   "language": "python",
   "name": "python3"
  },
  "language_info": {
   "codemirror_mode": {
    "name": "ipython",
    "version": 3
   },
   "file_extension": ".py",
   "mimetype": "text/x-python",
   "name": "python",
   "nbconvert_exporter": "python",
   "pygments_lexer": "ipython3",
   "version": "3.13.5"
  }
 },
 "nbformat": 4,
 "nbformat_minor": 5
}
