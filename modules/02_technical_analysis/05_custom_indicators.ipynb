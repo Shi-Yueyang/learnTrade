{
 "cells": [
  {
   "cell_type": "markdown",
   "id": "e6824c29",
   "metadata": {},
   "source": [
    "# Custom Indicators and Signal Filtering\n",
    "Learn how to create proprietary technical indicators, apply signal filtering techniques, and leverage machine learning to enhance indicator power."
   ]
  },
  {
   "cell_type": "markdown",
   "id": "bdefd0e5",
   "metadata": {},
   "source": [
    "## Topics\n",
    "- Creating proprietary indicators\n",
    "- Signal filtering\n",
    "- Machine learning enhanced indicators"
   ]
  },
  {
   "cell_type": "code",
   "execution_count": null,
   "id": "7094eee0",
   "metadata": {},
   "outputs": [],
   "source": [
    "# Import required libraries\n",
    "import numpy as np\n",
    "import pandas as pd\n",
    "import matplotlib.pyplot as plt\n",
    "from sklearn.ensemble import RandomForestClassifier\n",
    "from sklearn.model_selection import train_test_split\n",
    "from sklearn.metrics import accuracy_score"
   ]
  },
  {
   "cell_type": "markdown",
   "id": "9995d910",
   "metadata": {},
   "source": [
    "## 1. Designing a Customized Indicator\n",
    "We'll design a volume-weighted momentum indicator as an example."
   ]
  },
  {
   "cell_type": "code",
   "execution_count": null,
   "id": "447cd174",
   "metadata": {},
   "outputs": [],
   "source": [
    "def volume_momentum_indicator(price, volume, window=14):\n",
    "    \"\"\"Compute volume-weighted momentum: (price change * volume) rolling sum / rolling sum of volume.\"\"\"\n",
    "    returns = price.diff()\n",
    "    weighted = returns * volume\n",
    "    vw_momentum = weighted.rolling(window).sum() / volume.rolling(window).sum()\n",
    "    return vw_momentum"
   ]
  },
  {
   "cell_type": "code",
   "execution_count": null,
   "id": "2ba27daf",
   "metadata": {},
   "outputs": [],
   "source": [
    "# Sample data and plot custom indicator\n",
    "import yfinance as yf\n",
    "data = yf.download('AAPL', period='6mo', interval='1d')\n",
    "data['VW_Momentum'] = volume_momentum_indicator(data['Close'], data['Volume'])\n",
    "plt.figure(figsize=(12,4))\n",
    "plt.plot(data['VW_Momentum'], label='VW Momentum')\n",
    "plt.legend()\n",
    "plt.title('Volume-Weighted Momentum Indicator')\n",
    "plt.show()"
   ]
  },
  {
   "cell_type": "markdown",
   "id": "5a1090ed",
   "metadata": {},
   "source": [
    "## 2. Signal Filtering Techniques\n",
    "Smooth and refine generated signals to reduce noise and false triggers."
   ]
  },
  {
   "cell_type": "code",
   "execution_count": null,
   "id": "be1136d7",
   "metadata": {},
   "outputs": [],
   "source": [
    "# Apply exponential moving average filter\n",
    "data['Signal'] = np.where(data['VW_Momentum'] > data['VW_Momentum'].ewm(span=14).mean(), 1, 0)\n",
    "# Plot filtered signal\n",
    "plt.figure(figsize=(12,4))\n",
    "plt.plot(data['VW_Momentum'], label='VW Momentum', alpha=0.5)\n",
    "plt.plot(data['VW_Momentum'].ewm(span=14).mean(), label='EMA Filter', linestyle='--')\n",
    "plt.legend()\n",
    "plt.show()"
   ]
  },
  {
   "cell_type": "markdown",
   "id": "2df2039d",
   "metadata": {},
   "source": [
    "## 3. Machine Learning Enhanced Indicators\n",
    "Use ML classifiers to generate signals based on multiple indicator features."
   ]
  },
  {
   "cell_type": "code",
   "execution_count": null,
   "id": "95bdc721",
   "metadata": {},
   "outputs": [],
   "source": [
    "# Feature engineering\n",
    "delta = data['Close'].diff()\n",
    "\n",
    "Compute RSI\n",
    "\n",
    "up = delta.clip(lower=0)\n",
    "down = -delta.clip(upper=0)\n",
    "gain = up.rolling(14).mean()\n",
    "loss = down.rolling(14).mean()\n",
    "rs = gain / loss\n",
    "data['RSI'] = 100 - (100 / (1 + rs))\n",
    "features = ['VW_Momentum', 'RSI']\n",
    "data = data.dropna()\n",
    "X = data[features]\n",
    "y = np.where(data['Close'].shift(-1) > data['Close'], 1, 0)\n",
    "# Train-test split\n",
    "X_train, X_test, y_train, y_test = train_test_split(X, y, test_size=0.3, random_state=42)\n",
    "# Train model\n",
    "model = RandomForestClassifier(n_estimators=100, random_state=42)\n",
    "model.fit(X_train, y_train)\n",
    "preds = model.predict(X_test)\n",
    "print('Accuracy:', accuracy_score(y_test, preds))"
   ]
  },
  {
   "cell_type": "markdown",
   "id": "38bb0f28",
   "metadata": {},
   "source": [
    "## 4. Backtesting the Strategy\n",
    "Evaluate strategy performance using ML-enhanced signals."
   ]
  },
  {
   "cell_type": "code",
   "execution_count": null,
   "id": "defadcd7",
   "metadata": {},
   "outputs": [],
   "source": [
    "# Generate positions based on model predictions\n",
    "backtest_data = data.iloc[X_train.shape[0]:].copy()  # align with X_test\n",
    "backtest_data['ML_Signal'] = preds\n",
    "# Calculate returns\n",
    "backtest_data['Strategy_Return'] = backtest_data['ML_Signal'] * backtest_data['Close'].pct_change()\n",
    "cumulative_return = (1 + backtest_data['Strategy_Return']).cumprod()\n",
    "plt.figure(figsize=(12,4))\n",
    "plt.plot(cumulative_return, label='ML Strategy')\n",
    "plt.legend()\n",
    "plt.title('Cumulative Returns of ML-Enhanced Strategy')\n",
    "plt.show()"
   ]
  }
 ],
 "metadata": {
  "language_info": {
   "name": "python"
  }
 },
 "nbformat": 4,
 "nbformat_minor": 5
}
