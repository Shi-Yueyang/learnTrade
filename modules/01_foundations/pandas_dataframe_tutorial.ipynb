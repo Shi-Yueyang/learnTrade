{
 "cells": [
  {
   "cell_type": "markdown",
   "id": "78a87c0b",
   "metadata": {},
   "source": [
    "# Pandas DataFrame Tutorial\n",
    "\n",
    "A basic guide to working with pandas DataFrames in Python."
   ]
  },
  {
   "cell_type": "markdown",
   "id": "38434245",
   "metadata": {},
   "source": [
    "## 1. Import Pandas Library"
   ]
  },
  {
   "cell_type": "code",
   "execution_count": 1,
   "id": "e8d7ce3d",
   "metadata": {},
   "outputs": [],
   "source": [
    "import pandas as pd"
   ]
  },
  {
   "cell_type": "markdown",
   "id": "a503cc0d",
   "metadata": {},
   "source": [
    "## 2. Create a DataFrame"
   ]
  },
  {
   "cell_type": "code",
   "execution_count": 3,
   "id": "19d6c07e",
   "metadata": {},
   "outputs": [
    {
     "data": {
      "text/html": [
       "<div>\n",
       "<style scoped>\n",
       "    .dataframe tbody tr th:only-of-type {\n",
       "        vertical-align: middle;\n",
       "    }\n",
       "\n",
       "    .dataframe tbody tr th {\n",
       "        vertical-align: top;\n",
       "    }\n",
       "\n",
       "    .dataframe thead th {\n",
       "        text-align: right;\n",
       "    }\n",
       "</style>\n",
       "<table border=\"1\" class=\"dataframe\">\n",
       "  <thead>\n",
       "    <tr style=\"text-align: right;\">\n",
       "      <th></th>\n",
       "      <th>Name</th>\n",
       "      <th>Age</th>\n",
       "      <th>City</th>\n",
       "      <th>Salary</th>\n",
       "    </tr>\n",
       "  </thead>\n",
       "  <tbody>\n",
       "    <tr>\n",
       "      <th>0</th>\n",
       "      <td>Alice</td>\n",
       "      <td>25</td>\n",
       "      <td>New York</td>\n",
       "      <td>50000</td>\n",
       "    </tr>\n",
       "    <tr>\n",
       "      <th>1</th>\n",
       "      <td>Bob</td>\n",
       "      <td>30</td>\n",
       "      <td>London</td>\n",
       "      <td>60000</td>\n",
       "    </tr>\n",
       "    <tr>\n",
       "      <th>2</th>\n",
       "      <td>Charlie</td>\n",
       "      <td>35</td>\n",
       "      <td>Paris</td>\n",
       "      <td>70000</td>\n",
       "    </tr>\n",
       "    <tr>\n",
       "      <th>3</th>\n",
       "      <td>Diana</td>\n",
       "      <td>28</td>\n",
       "      <td>Tokyo</td>\n",
       "      <td>55000</td>\n",
       "    </tr>\n",
       "    <tr>\n",
       "      <th>4</th>\n",
       "      <td>Eve</td>\n",
       "      <td>32</td>\n",
       "      <td>Sydney</td>\n",
       "      <td>65000</td>\n",
       "    </tr>\n",
       "  </tbody>\n",
       "</table>\n",
       "</div>"
      ],
      "text/plain": [
       "      Name  Age      City  Salary\n",
       "0    Alice   25  New York   50000\n",
       "1      Bob   30    London   60000\n",
       "2  Charlie   35     Paris   70000\n",
       "3    Diana   28     Tokyo   55000\n",
       "4      Eve   32    Sydney   65000"
      ]
     },
     "execution_count": 3,
     "metadata": {},
     "output_type": "execute_result"
    }
   ],
   "source": [
    "data = {\n",
    "    'Name': ['Alice', 'Bob', 'Charlie', 'Diana', 'Eve'],\n",
    "    'Age': [25, 30, 35, 28, 32],\n",
    "    'City': ['New York', 'London', 'Paris', 'Tokyo', 'Sydney'],\n",
    "    'Salary': [50000, 60000, 70000, 55000, 65000]\n",
    "}\n",
    "\n",
    "df = pd.DataFrame(data)\n",
    "df"
   ]
  },
  {
   "cell_type": "markdown",
   "id": "957be438",
   "metadata": {},
   "source": [
    "## 3. Read Data from CSV"
   ]
  },
  {
   "cell_type": "code",
   "execution_count": 4,
   "id": "1561c2ce",
   "metadata": {},
   "outputs": [
    {
     "name": "stdout",
     "output_type": "stream",
     "text": [
      "      Name  Age      City  Salary\n",
      "0    Alice   25  New York   50000\n",
      "1      Bob   30    London   60000\n",
      "2  Charlie   35     Paris   70000\n",
      "3    Diana   28     Tokyo   55000\n",
      "4      Eve   32    Sydney   65000\n"
     ]
    }
   ],
   "source": [
    "# Save our DataFrame to CSV first\n",
    "df.to_csv('sample_data.csv', index=False)\n",
    "\n",
    "# Read it back\n",
    "df_from_csv = pd.read_csv('sample_data.csv')\n",
    "print(df_from_csv)"
   ]
  },
  {
   "cell_type": "markdown",
   "id": "e999ab28",
   "metadata": {},
   "source": [
    "## 4. View DataFrame Content"
   ]
  },
  {
   "cell_type": "code",
   "execution_count": 5,
   "id": "7f74799f",
   "metadata": {},
   "outputs": [
    {
     "name": "stdout",
     "output_type": "stream",
     "text": [
      "First 3 rows:\n",
      "      Name  Age      City  Salary\n",
      "0    Alice   25  New York   50000\n",
      "1      Bob   30    London   60000\n",
      "2  Charlie   35     Paris   70000\n",
      "\n",
      "Last 2 rows:\n",
      "    Name  Age    City  Salary\n",
      "3  Diana   28   Tokyo   55000\n",
      "4    Eve   32  Sydney   65000\n",
      "\n",
      "DataFrame info:\n",
      "<class 'pandas.core.frame.DataFrame'>\n",
      "RangeIndex: 5 entries, 0 to 4\n",
      "Data columns (total 4 columns):\n",
      " #   Column  Non-Null Count  Dtype \n",
      "---  ------  --------------  ----- \n",
      " 0   Name    5 non-null      object\n",
      " 1   Age     5 non-null      int64 \n",
      " 2   City    5 non-null      object\n",
      " 3   Salary  5 non-null      int64 \n",
      "dtypes: int64(2), object(2)\n",
      "memory usage: 292.0+ bytes\n",
      "None\n",
      "\n",
      "DataFrame shape:\n",
      "(5, 4)\n",
      "\n",
      "Column names:\n",
      "['Name', 'Age', 'City', 'Salary']\n"
     ]
    }
   ],
   "source": [
    "print(\"First 3 rows:\")\n",
    "print(df.head(3))\n",
    "\n",
    "print(\"\\nLast 2 rows:\")\n",
    "print(df.tail(2))\n",
    "\n",
    "print(\"\\nDataFrame info:\")\n",
    "print(df.info())\n",
    "\n",
    "print(\"\\nDataFrame shape:\")\n",
    "print(df.shape)\n",
    "\n",
    "print(\"\\nColumn names:\")\n",
    "print(df.columns.tolist())"
   ]
  },
  {
   "cell_type": "markdown",
   "id": "f18ddd2c",
   "metadata": {},
   "source": [
    "## 5. Select Columns and Rows"
   ]
  },
  {
   "cell_type": "code",
   "execution_count": 6,
   "id": "58a32c25",
   "metadata": {},
   "outputs": [
    {
     "name": "stdout",
     "output_type": "stream",
     "text": [
      "Select single column:\n",
      "0      Alice\n",
      "1        Bob\n",
      "2    Charlie\n",
      "3      Diana\n",
      "4        Eve\n",
      "Name: Name, dtype: object\n",
      "\n",
      "Select multiple columns:\n",
      "      Name  Age\n",
      "0    Alice   25\n",
      "1      Bob   30\n",
      "2  Charlie   35\n",
      "3    Diana   28\n",
      "4      Eve   32\n",
      "\n",
      "Select rows by index using iloc:\n",
      "    Name  Age      City  Salary\n",
      "0  Alice   25  New York   50000\n",
      "1    Bob   30    London   60000\n",
      "\n",
      "Select specific rows and columns using loc:\n",
      "      Name  Salary\n",
      "0    Alice   50000\n",
      "1      Bob   60000\n",
      "2  Charlie   70000\n",
      "\n",
      "Select row by condition:\n",
      "      Name  Age    City  Salary\n",
      "2  Charlie   35   Paris   70000\n",
      "4      Eve   32  Sydney   65000\n"
     ]
    }
   ],
   "source": [
    "print(\"Select single column:\")\n",
    "print(df['Name'])\n",
    "\n",
    "print(\"\\nSelect multiple columns:\")\n",
    "print(df[['Name', 'Age']])\n",
    "\n",
    "print(\"\\nSelect rows by index using iloc:\")\n",
    "print(df.iloc[0:2])\n",
    "\n",
    "print(\"\\nSelect specific rows and columns using loc:\")\n",
    "print(df.loc[0:2, ['Name', 'Salary']])\n",
    "\n",
    "print(\"\\nSelect row by condition:\")\n",
    "print(df[df['Age'] > 30])"
   ]
  },
  {
   "cell_type": "markdown",
   "id": "db28fb2c",
   "metadata": {},
   "source": [
    "## 6. Filter Data"
   ]
  },
  {
   "cell_type": "code",
   "execution_count": null,
   "id": "6cf7d2a0",
   "metadata": {},
   "outputs": [],
   "source": [
    "print(\"Filter by age > 30:\")\n",
    "print(df[df['Age'] > 30])\n",
    "\n",
    "print(\"\\nFilter by salary range:\")\n",
    "print(df[(df['Salary'] >= 55000) & (df['Salary'] <= 65000)])\n",
    "\n",
    "print(\"\\nFilter by city:\")\n",
    "print(df[df['City'] == 'London'])\n",
    "\n",
    "print(\"\\nFilter by multiple cities:\")\n",
    "print(df[df['City'].isin(['New York', 'Paris'])])\n",
    "\n",
    "print(\"\\nFilter by name contains 'a':\")\n",
    "print(df[df['Name'].str.contains('a', case=False)])"
   ]
  },
  {
   "cell_type": "markdown",
   "id": "7beb715f",
   "metadata": {},
   "source": [
    "## 7. Add and Remove Columns"
   ]
  },
  {
   "cell_type": "code",
   "execution_count": null,
   "id": "1b7d6bb9",
   "metadata": {},
   "outputs": [],
   "source": [
    "print(\"Original DataFrame:\")\n",
    "print(df)\n",
    "\n",
    "print(\"\\nAdd new column:\")\n",
    "df['Department'] = ['IT', 'HR', 'Finance', 'Marketing', 'IT']\n",
    "print(df)\n",
    "\n",
    "print(\"\\nAdd calculated column:\")\n",
    "df['Annual_Salary'] = df['Salary'] * 12\n",
    "print(df)\n",
    "\n",
    "print(\"\\nRemove column:\")\n",
    "df_new = df.drop('Annual_Salary', axis=1)\n",
    "print(df_new)\n",
    "\n",
    "print(\"\\nRemove multiple columns:\")\n",
    "df_minimal = df.drop(['Department', 'Annual_Salary'], axis=1)\n",
    "print(df_minimal)"
   ]
  },
  {
   "cell_type": "markdown",
   "id": "c3952952",
   "metadata": {},
   "source": [
    "## 8. Basic Statistics"
   ]
  },
  {
   "cell_type": "code",
   "execution_count": null,
   "id": "4c900e47",
   "metadata": {},
   "outputs": [],
   "source": [
    "print(\"Describe all numeric columns:\")\n",
    "print(df.describe())\n",
    "\n",
    "print(\"\\nMean age:\")\n",
    "print(df['Age'].mean())\n",
    "\n",
    "print(\"\\nSum of salaries:\")\n",
    "print(df['Salary'].sum())\n",
    "\n",
    "print(\"\\nMax salary:\")\n",
    "print(df['Salary'].max())\n",
    "\n",
    "print(\"\\nMin age:\")\n",
    "print(df['Age'].min())\n",
    "\n",
    "print(\"\\nCount of records:\")\n",
    "print(df['Name'].count())\n",
    "\n",
    "print(\"\\nValue counts for cities:\")\n",
    "print(df['City'].value_counts())"
   ]
  },
  {
   "cell_type": "markdown",
   "id": "9c858f15",
   "metadata": {},
   "source": [
    "## 9. Group Data"
   ]
  },
  {
   "cell_type": "code",
   "execution_count": null,
   "id": "108f573c",
   "metadata": {},
   "outputs": [],
   "source": [
    "print(\"Group by Department (mean salary):\")\n",
    "print(df.groupby('Department')['Salary'].mean())\n",
    "\n",
    "print(\"\\nGroup by Department (count):\")\n",
    "print(df.groupby('Department').size())\n",
    "\n",
    "print(\"\\nGroup by Department (multiple statistics):\")\n",
    "print(df.groupby('Department')['Salary'].agg(['mean', 'max', 'min']))\n",
    "\n",
    "print(\"\\nGroup by City (mean age):\")\n",
    "print(df.groupby('City')['Age'].mean())"
   ]
  },
  {
   "cell_type": "markdown",
   "id": "5a8867d8",
   "metadata": {},
   "source": [
    "## 10. Sort Data"
   ]
  },
  {
   "cell_type": "code",
   "execution_count": null,
   "id": "e86647be",
   "metadata": {},
   "outputs": [],
   "source": [
    "print(\"Sort by Age (ascending):\")\n",
    "print(df.sort_values('Age'))\n",
    "\n",
    "print(\"\\nSort by Salary (descending):\")\n",
    "print(df.sort_values('Salary', ascending=False))\n",
    "\n",
    "print(\"\\nSort by multiple columns:\")\n",
    "print(df.sort_values(['Department', 'Age']))\n",
    "\n",
    "print(\"\\nSort by index:\")\n",
    "print(df.sort_index())"
   ]
  },
  {
   "cell_type": "markdown",
   "id": "390bb000",
   "metadata": {},
   "source": [
    "## 11. Handle Missing Data"
   ]
  },
  {
   "cell_type": "code",
   "execution_count": null,
   "id": "e6e6c3f8",
   "metadata": {},
   "outputs": [],
   "source": [
    "import numpy as np\n",
    "\n",
    "df_missing = df.copy()\n",
    "df_missing.loc[1, 'Age'] = np.nan\n",
    "df_missing.loc[3, 'Salary'] = np.nan\n",
    "\n",
    "print(\"DataFrame with missing values:\")\n",
    "print(df_missing)\n",
    "\n",
    "print(\"\\nCheck for missing values:\")\n",
    "print(df_missing.isnull().sum())\n",
    "\n",
    "print(\"\\nDrop rows with missing values:\")\n",
    "print(df_missing.dropna())\n",
    "\n",
    "print(\"\\nFill missing values:\")\n",
    "df_filled = df_missing.fillna({'Age': df_missing['Age'].mean(), 'Salary': df_missing['Salary'].median()})\n",
    "print(df_filled)"
   ]
  }
 ],
 "metadata": {
  "kernelspec": {
   "display_name": "quant_trading_env",
   "language": "python",
   "name": "python3"
  },
  "language_info": {
   "codemirror_mode": {
    "name": "ipython",
    "version": 3
   },
   "file_extension": ".py",
   "mimetype": "text/x-python",
   "name": "python",
   "nbconvert_exporter": "python",
   "pygments_lexer": "ipython3",
   "version": "3.13.5"
  }
 },
 "nbformat": 4,
 "nbformat_minor": 5
}
